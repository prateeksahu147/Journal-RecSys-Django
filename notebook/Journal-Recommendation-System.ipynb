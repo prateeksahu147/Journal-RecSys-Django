{
 "cells": [
  {
   "cell_type": "markdown",
   "id": "039874fb",
   "metadata": {},
   "source": [
    "# EDA for Journals Recommendation Engine "
   ]
  },
  {
   "cell_type": "markdown",
   "id": "4e38fae4",
   "metadata": {},
   "source": [
    "### Import Libraries"
   ]
  },
  {
   "cell_type": "code",
   "execution_count": 2,
   "id": "885cd920",
   "metadata": {},
   "outputs": [],
   "source": [
    "import pickle\n",
    "import json\n",
    "import dask.bag as db\n",
    "import numpy as np\n",
    "import pandas as pd\n",
    "import matplotlib.pyplot as plt \n",
    "import seaborn as sns\n",
    "from sklearn.preprocessing import MultiLabelBinarizer\n",
    "from sklearn.feature_extraction.text import TfidfVectorizer\n",
    "from sklearn.decomposition import PCA\n",
    "from nltk.corpus import stopwords\n",
    "stop_words = set(stopwords.words('english'))\n",
    "from scipy.sparse import hstack\n",
    "from sklearn.feature_extraction.text import CountVectorizer\n",
    "from wordcloud import WordCloud, STOPWORDS\n",
    "from gensim.models import Word2Vec\n",
    "from gensim.models import KeyedVectors\n",
    "import pickle\n",
    "from sklearn.metrics.pairwise import cosine_similarity  \n",
    "from sklearn.metrics import pairwise_distances\n",
    "import re\n",
    "from collections import Counter\n",
    "from matplotlib import gridspec\n",
    "from sklearn.feature_extraction.text import CountVectorizer\n"
   ]
  },
  {
   "cell_type": "code",
   "execution_count": 2,
   "id": "ed1b6ce2",
   "metadata": {},
   "outputs": [],
   "source": [
    "data = db.read_text('arxiv-metadata-oai-snapshot.json').map(json.loads)\n"
   ]
  },
  {
   "cell_type": "code",
   "execution_count": 3,
   "id": "2bcf6519",
   "metadata": {},
   "outputs": [
    {
     "data": {
      "text/plain": [
       "2100683"
      ]
     },
     "execution_count": 3,
     "metadata": {},
     "output_type": "execute_result"
    }
   ],
   "source": [
    "# Total number of research paper in the dataset\n",
    "data.count().compute()\n"
   ]
  },
  {
   "cell_type": "code",
   "execution_count": 4,
   "id": "24e53b98",
   "metadata": {},
   "outputs": [
    {
     "data": {
      "text/plain": [
       "({'id': '0704.0001',\n",
       "  'submitter': 'Pavel Nadolsky',\n",
       "  'authors': \"C. Bal\\\\'azs, E. L. Berger, P. M. Nadolsky, C.-P. Yuan\",\n",
       "  'title': 'Calculation of prompt diphoton production cross sections at Tevatron and\\n  LHC energies',\n",
       "  'comments': '37 pages, 15 figures; published version',\n",
       "  'journal-ref': 'Phys.Rev.D76:013009,2007',\n",
       "  'doi': '10.1103/PhysRevD.76.013009',\n",
       "  'report-no': 'ANL-HEP-PR-07-12',\n",
       "  'categories': 'hep-ph',\n",
       "  'license': None,\n",
       "  'abstract': '  A fully differential calculation in perturbative quantum chromodynamics is\\npresented for the production of massive photon pairs at hadron colliders. All\\nnext-to-leading order perturbative contributions from quark-antiquark,\\ngluon-(anti)quark, and gluon-gluon subprocesses are included, as well as\\nall-orders resummation of initial-state gluon radiation valid at\\nnext-to-next-to-leading logarithmic accuracy. The region of phase space is\\nspecified in which the calculation is most reliable. Good agreement is\\ndemonstrated with data from the Fermilab Tevatron, and predictions are made for\\nmore detailed tests with CDF and DO data. Predictions are shown for\\ndistributions of diphoton pairs produced at the energy of the Large Hadron\\nCollider (LHC). Distributions of the diphoton pairs from the decay of a Higgs\\nboson are contrasted with those produced from QCD processes at the LHC, showing\\nthat enhanced sensitivity to the signal can be obtained with judicious\\nselection of events.\\n',\n",
       "  'versions': [{'version': 'v1', 'created': 'Mon, 2 Apr 2007 19:18:42 GMT'},\n",
       "   {'version': 'v2', 'created': 'Tue, 24 Jul 2007 20:10:27 GMT'}],\n",
       "  'update_date': '2008-11-26',\n",
       "  'authors_parsed': [['Balázs', 'C.', ''],\n",
       "   ['Berger', 'E. L.', ''],\n",
       "   ['Nadolsky', 'P. M.', ''],\n",
       "   ['Yuan', 'C. -P.', '']]},)"
      ]
     },
     "execution_count": 4,
     "metadata": {},
     "output_type": "execute_result"
    }
   ],
   "source": [
    "# First record from dataset\n",
    "data.take(1)\n"
   ]
  },
  {
   "cell_type": "code",
   "execution_count": 5,
   "id": "9eb013b0",
   "metadata": {},
   "outputs": [],
   "source": [
    "getLatestVersion = lambda x : x ['versions'][-1]['created']\n",
    "dates = (data.map(getLatestVersion).frequencies(sort = True))\n"
   ]
  },
  {
   "cell_type": "code",
   "execution_count": 6,
   "id": "605d6e82",
   "metadata": {},
   "outputs": [
    {
     "data": {
      "text/plain": [
       "[('Wed, 27 Jun 2012 19:59:59 GMT', 103),\n",
       " ('Tue, 14 Feb 2012 16:41:17 GMT', 82),\n",
       " ('Thu, 15 Mar 2012 11:17:56 GMT', 78),\n",
       " ('Sun, 1 Dec 2002 00:00:00 GMT', 35),\n",
       " ('Thu, 1 Jul 1999 00:00:00 GMT', 22),\n",
       " ('Wed, 1 Apr 1992 00:00:00 GMT', 22),\n",
       " ('Wed, 8 Apr 1992 22:58:34 GMT', 18),\n",
       " ('Thu, 9 Feb 1995 00:00:00 GMT', 18),\n",
       " ('Wed, 1 Jan 1992 00:00:00 GMT', 17),\n",
       " ('Fri, 9 Jul 1993 00:00:00 GMT', 17)]"
      ]
     },
     "execution_count": 6,
     "metadata": {},
     "output_type": "execute_result"
    }
   ],
   "source": [
    "# show top submissions datetime\n",
    "(dates.topk(10, key=1).compute())\n"
   ]
  },
  {
   "cell_type": "code",
   "execution_count": 7,
   "id": "29138af4",
   "metadata": {},
   "outputs": [],
   "source": [
    "# get only necessary fields\n",
    "trim = lambda x: {'id': x['id'],\n",
    "                  'title': x['title'],\n",
    "                  'category':x['categories'].split(' '),\n",
    "                  'abstract':x['abstract']}\n",
    "# filter for papers published on or after 2019-01-01\n",
    "columns = ['id','category','abstract']\n",
    "docs_df = (data\n",
    "             .filter(lambda x: int(getLatestVersion(x).split(' ')[3]) > 2020)\n",
    "             .map(trim)\n",
    "             .compute())\n",
    "\n",
    "# convert to pandas\n",
    "docs_df = pd.DataFrame(docs_df)\n",
    "\n",
    "# add general category. we are going to use as our target variable\n",
    "docs_df['general_category'] = docs_df.category.apply(lambda x:[a.split('.')[0] for a in x])"
   ]
  },
  {
   "cell_type": "code",
   "execution_count": 8,
   "id": "10bc5cb3",
   "metadata": {},
   "outputs": [],
   "source": [
    "# add general category. we are going to use as our target variable\n",
    "docs_df['general_category'] = docs_df.category.apply(lambda x:','.join({a.split('.')[0] for a in x}))\n",
    "# Modified Category \n",
    "docs_df['category'] = docs_df.category.apply(lambda x : ','.join({ ' '.join(i.split('.')[1:]) for i in x}))\n",
    "\n"
   ]
  },
  {
   "cell_type": "code",
   "execution_count": 9,
   "id": "05ac8948",
   "metadata": {},
   "outputs": [],
   "source": [
    "docs_df['length_of_title'] = docs_df.title.apply(lambda title : len(title.split() if len(title)>0 else 0))\n",
    "docs_df['length_of_abstract'] = docs_df.abstract.apply(lambda abstract : len(abstract.split()) if len(abstract)>0 else 0)\n",
    "docs_df['no_of_general_category_per_paper'] = docs_df.general_category.apply(lambda gc : len(gc.split(',')) if len(gc) > 0 else 0)\n",
    "docs_df['no_of_category_per_paper'] = docs_df.category.apply(lambda gc : len(gc.split(',')) if len(gc) > 0 else 0)\n"
   ]
  },
  {
   "cell_type": "markdown",
   "id": "1ba78bf9",
   "metadata": {},
   "source": [
    "## Extracted Research Paper Dataset after Year 2020\n",
    "1. It has 5 columns, all columns has it own importance to build Journal Recommendation Engine.\n",
    "2. In order to build RecSys we will use 'title' and 'abstract' of the Research paper.\n",
    "3. Dataset consist 336303 research papers after 2020 belong from various category."
   ]
  },
  {
   "cell_type": "code",
   "execution_count": 10,
   "id": "d1498b3d",
   "metadata": {},
   "outputs": [
    {
     "data": {
      "text/html": [
       "<div>\n",
       "<style scoped>\n",
       "    .dataframe tbody tr th:only-of-type {\n",
       "        vertical-align: middle;\n",
       "    }\n",
       "\n",
       "    .dataframe tbody tr th {\n",
       "        vertical-align: top;\n",
       "    }\n",
       "\n",
       "    .dataframe thead th {\n",
       "        text-align: right;\n",
       "    }\n",
       "</style>\n",
       "<table border=\"1\" class=\"dataframe\">\n",
       "  <thead>\n",
       "    <tr style=\"text-align: right;\">\n",
       "      <th></th>\n",
       "      <th>id</th>\n",
       "      <th>title</th>\n",
       "      <th>category</th>\n",
       "      <th>abstract</th>\n",
       "      <th>general_category</th>\n",
       "      <th>length_of_title</th>\n",
       "      <th>length_of_abstract</th>\n",
       "      <th>no_of_general_category_per_paper</th>\n",
       "      <th>no_of_category_per_paper</th>\n",
       "    </tr>\n",
       "  </thead>\n",
       "  <tbody>\n",
       "    <tr>\n",
       "      <th>0</th>\n",
       "      <td>0704.0033</td>\n",
       "      <td>Convergence of the discrete dipole approximati...</td>\n",
       "      <td>comp-ph,optics</td>\n",
       "      <td>We performed a rigorous theoretical converge...</td>\n",
       "      <td>physics</td>\n",
       "      <td>9</td>\n",
       "      <td>133</td>\n",
       "      <td>1</td>\n",
       "      <td>2</td>\n",
       "    </tr>\n",
       "    <tr>\n",
       "      <th>1</th>\n",
       "      <td>0704.0038</td>\n",
       "      <td>The discrete dipole approximation: an overview...</td>\n",
       "      <td>comp-ph,optics</td>\n",
       "      <td>We present a review of the discrete dipole a...</td>\n",
       "      <td>physics</td>\n",
       "      <td>9</td>\n",
       "      <td>96</td>\n",
       "      <td>1</td>\n",
       "      <td>2</td>\n",
       "    </tr>\n",
       "    <tr>\n",
       "      <th>2</th>\n",
       "      <td>0704.0479</td>\n",
       "      <td>The affine part of the Picard scheme</td>\n",
       "      <td>KT,AG</td>\n",
       "      <td>We describe the maximal torus and maximal un...</td>\n",
       "      <td>math</td>\n",
       "      <td>7</td>\n",
       "      <td>21</td>\n",
       "      <td>1</td>\n",
       "      <td>2</td>\n",
       "    </tr>\n",
       "    <tr>\n",
       "      <th>3</th>\n",
       "      <td>0705.3841</td>\n",
       "      <td>Renormalization Group Evolution in the type I ...</td>\n",
       "      <td></td>\n",
       "      <td>We carefully analyze the renormalization gro...</td>\n",
       "      <td>hep-ph</td>\n",
       "      <td>11</td>\n",
       "      <td>95</td>\n",
       "      <td>1</td>\n",
       "      <td>0</td>\n",
       "    </tr>\n",
       "    <tr>\n",
       "      <th>4</th>\n",
       "      <td>0705.4060</td>\n",
       "      <td>C*- Algebras and Thermodynamic Formalism</td>\n",
       "      <td>OA,DS</td>\n",
       "      <td>We present a detailed exposition (for a Dyna...</td>\n",
       "      <td>math</td>\n",
       "      <td>5</td>\n",
       "      <td>110</td>\n",
       "      <td>1</td>\n",
       "      <td>2</td>\n",
       "    </tr>\n",
       "  </tbody>\n",
       "</table>\n",
       "</div>"
      ],
      "text/plain": [
       "          id                                              title  \\\n",
       "0  0704.0033  Convergence of the discrete dipole approximati...   \n",
       "1  0704.0038  The discrete dipole approximation: an overview...   \n",
       "2  0704.0479               The affine part of the Picard scheme   \n",
       "3  0705.3841  Renormalization Group Evolution in the type I ...   \n",
       "4  0705.4060           C*- Algebras and Thermodynamic Formalism   \n",
       "\n",
       "         category                                           abstract  \\\n",
       "0  comp-ph,optics    We performed a rigorous theoretical converge...   \n",
       "1  comp-ph,optics    We present a review of the discrete dipole a...   \n",
       "2           KT,AG    We describe the maximal torus and maximal un...   \n",
       "3                    We carefully analyze the renormalization gro...   \n",
       "4           OA,DS    We present a detailed exposition (for a Dyna...   \n",
       "\n",
       "  general_category  length_of_title  length_of_abstract  \\\n",
       "0          physics                9                 133   \n",
       "1          physics                9                  96   \n",
       "2             math                7                  21   \n",
       "3           hep-ph               11                  95   \n",
       "4             math                5                 110   \n",
       "\n",
       "   no_of_general_category_per_paper  no_of_category_per_paper  \n",
       "0                                 1                         2  \n",
       "1                                 1                         2  \n",
       "2                                 1                         2  \n",
       "3                                 1                         0  \n",
       "4                                 1                         2  "
      ]
     },
     "execution_count": 10,
     "metadata": {},
     "output_type": "execute_result"
    }
   ],
   "source": [
    "docs_df.head()"
   ]
  },
  {
   "cell_type": "code",
   "execution_count": 11,
   "id": "25e3708f",
   "metadata": {},
   "outputs": [
    {
     "data": {
      "text/plain": [
       "1"
      ]
     },
     "execution_count": 11,
     "metadata": {},
     "output_type": "execute_result"
    }
   ],
   "source": [
    "len(docs_df.category[3].split(','))"
   ]
  },
  {
   "cell_type": "code",
   "execution_count": 12,
   "id": "3fe2732b",
   "metadata": {},
   "outputs": [
    {
     "name": "stdout",
     "output_type": "stream",
     "text": [
      "The shape of the research paper dataset which are published after 2020 is (336303, 9)\n"
     ]
    }
   ],
   "source": [
    "print(f'The shape of the research paper dataset which are published after 2020 is {docs_df.shape}')"
   ]
  },
  {
   "cell_type": "markdown",
   "id": "9bbfa1ff",
   "metadata": {},
   "source": [
    "### Some usefull insights form Title, Abstract, General Category and Sub-Category\n",
    "#### Title\n",
    "1. Title word count of 75% of papers is 12 word per article.\n",
    "2. Maximum word count for Title is 43 words and minimum is 1 word.\n",
    "3. We can see there're 3 duplicate Title with unique ID.\n",
    "\n",
    "#### Abstract\n",
    "1. Word count for abstract for 74% of research paper is 198 word per article.\n",
    "2. Maximum word count for abstract is 498 words and minimum is 3 words.\n",
    "3. We also have 2 duplicate abstract in our dataset.\n",
    "\n",
    "#### General Category\n",
    "1. 75% of papers belongs from atmost 2 general categories.\n",
    "2. Maximum number of general category per artical is 6 and minimum is 1.\n",
    "3. Maximum article belongs from 'CS' category that is 83632 since year 2021.\n",
    "\n",
    "#### Category (Sub-Category)\n",
    "1. 75% of papers belongs from atmost 2 sub categories.\n",
    "2. Maximum number of sub-category per artical is 8 and minimum is 0.\n",
    "3. We've 29492 articals which sub-category is untagged.\n",
    "\n",
    "#### Note : We'll use these usefull insight for data preprocessing.\n"
   ]
  },
  {
   "cell_type": "code",
   "execution_count": 13,
   "id": "e10ddcf1",
   "metadata": {},
   "outputs": [
    {
     "data": {
      "text/html": [
       "<div>\n",
       "<style scoped>\n",
       "    .dataframe tbody tr th:only-of-type {\n",
       "        vertical-align: middle;\n",
       "    }\n",
       "\n",
       "    .dataframe tbody tr th {\n",
       "        vertical-align: top;\n",
       "    }\n",
       "\n",
       "    .dataframe thead th {\n",
       "        text-align: right;\n",
       "    }\n",
       "</style>\n",
       "<table border=\"1\" class=\"dataframe\">\n",
       "  <thead>\n",
       "    <tr style=\"text-align: right;\">\n",
       "      <th></th>\n",
       "      <th>length_of_title</th>\n",
       "      <th>length_of_abstract</th>\n",
       "      <th>no_of_general_category_per_paper</th>\n",
       "      <th>no_of_category_per_paper</th>\n",
       "    </tr>\n",
       "  </thead>\n",
       "  <tbody>\n",
       "    <tr>\n",
       "      <th>count</th>\n",
       "      <td>336303.000000</td>\n",
       "      <td>336303.000000</td>\n",
       "      <td>336303.000000</td>\n",
       "      <td>336303.000000</td>\n",
       "    </tr>\n",
       "    <tr>\n",
       "      <th>mean</th>\n",
       "      <td>9.875466</td>\n",
       "      <td>156.812526</td>\n",
       "      <td>1.433764</td>\n",
       "      <td>1.654609</td>\n",
       "    </tr>\n",
       "    <tr>\n",
       "      <th>std</th>\n",
       "      <td>3.656913</td>\n",
       "      <td>59.967704</td>\n",
       "      <td>0.693900</td>\n",
       "      <td>1.015316</td>\n",
       "    </tr>\n",
       "    <tr>\n",
       "      <th>min</th>\n",
       "      <td>1.000000</td>\n",
       "      <td>3.000000</td>\n",
       "      <td>1.000000</td>\n",
       "      <td>0.000000</td>\n",
       "    </tr>\n",
       "    <tr>\n",
       "      <th>25%</th>\n",
       "      <td>7.000000</td>\n",
       "      <td>114.000000</td>\n",
       "      <td>1.000000</td>\n",
       "      <td>1.000000</td>\n",
       "    </tr>\n",
       "    <tr>\n",
       "      <th>50%</th>\n",
       "      <td>9.000000</td>\n",
       "      <td>155.000000</td>\n",
       "      <td>1.000000</td>\n",
       "      <td>2.000000</td>\n",
       "    </tr>\n",
       "    <tr>\n",
       "      <th>75%</th>\n",
       "      <td>12.000000</td>\n",
       "      <td>198.000000</td>\n",
       "      <td>2.000000</td>\n",
       "      <td>2.000000</td>\n",
       "    </tr>\n",
       "    <tr>\n",
       "      <th>max</th>\n",
       "      <td>43.000000</td>\n",
       "      <td>498.000000</td>\n",
       "      <td>6.000000</td>\n",
       "      <td>8.000000</td>\n",
       "    </tr>\n",
       "  </tbody>\n",
       "</table>\n",
       "</div>"
      ],
      "text/plain": [
       "       length_of_title  length_of_abstract  no_of_general_category_per_paper  \\\n",
       "count    336303.000000       336303.000000                     336303.000000   \n",
       "mean          9.875466          156.812526                          1.433764   \n",
       "std           3.656913           59.967704                          0.693900   \n",
       "min           1.000000            3.000000                          1.000000   \n",
       "25%           7.000000          114.000000                          1.000000   \n",
       "50%           9.000000          155.000000                          1.000000   \n",
       "75%          12.000000          198.000000                          2.000000   \n",
       "max          43.000000          498.000000                          6.000000   \n",
       "\n",
       "       no_of_category_per_paper  \n",
       "count             336303.000000  \n",
       "mean                   1.654609  \n",
       "std                    1.015316  \n",
       "min                    0.000000  \n",
       "25%                    1.000000  \n",
       "50%                    2.000000  \n",
       "75%                    2.000000  \n",
       "max                    8.000000  "
      ]
     },
     "execution_count": 13,
     "metadata": {},
     "output_type": "execute_result"
    }
   ],
   "source": [
    "docs_df.describe()"
   ]
  },
  {
   "cell_type": "code",
   "execution_count": 14,
   "id": "d3dee829",
   "metadata": {},
   "outputs": [
    {
     "data": {
      "text/html": [
       "<div>\n",
       "<style scoped>\n",
       "    .dataframe tbody tr th:only-of-type {\n",
       "        vertical-align: middle;\n",
       "    }\n",
       "\n",
       "    .dataframe tbody tr th {\n",
       "        vertical-align: top;\n",
       "    }\n",
       "\n",
       "    .dataframe thead th {\n",
       "        text-align: right;\n",
       "    }\n",
       "</style>\n",
       "<table border=\"1\" class=\"dataframe\">\n",
       "  <thead>\n",
       "    <tr style=\"text-align: right;\">\n",
       "      <th></th>\n",
       "      <th>id</th>\n",
       "      <th>title</th>\n",
       "      <th>category</th>\n",
       "      <th>abstract</th>\n",
       "      <th>general_category</th>\n",
       "    </tr>\n",
       "  </thead>\n",
       "  <tbody>\n",
       "    <tr>\n",
       "      <th>count</th>\n",
       "      <td>336303</td>\n",
       "      <td>336303</td>\n",
       "      <td>336303</td>\n",
       "      <td>336303</td>\n",
       "      <td>336303</td>\n",
       "    </tr>\n",
       "    <tr>\n",
       "      <th>unique</th>\n",
       "      <td>336303</td>\n",
       "      <td>336162</td>\n",
       "      <td>17423</td>\n",
       "      <td>336253</td>\n",
       "      <td>1213</td>\n",
       "    </tr>\n",
       "    <tr>\n",
       "      <th>top</th>\n",
       "      <td>0704.0033</td>\n",
       "      <td>The LHCspin project</td>\n",
       "      <td></td>\n",
       "      <td>We compute numerically the reheating tempera...</td>\n",
       "      <td>cs</td>\n",
       "    </tr>\n",
       "    <tr>\n",
       "      <th>freq</th>\n",
       "      <td>1</td>\n",
       "      <td>3</td>\n",
       "      <td>29492</td>\n",
       "      <td>2</td>\n",
       "      <td>83632</td>\n",
       "    </tr>\n",
       "  </tbody>\n",
       "</table>\n",
       "</div>"
      ],
      "text/plain": [
       "               id                title category  \\\n",
       "count      336303               336303   336303   \n",
       "unique     336303               336162    17423   \n",
       "top     0704.0033  The LHCspin project            \n",
       "freq            1                    3    29492   \n",
       "\n",
       "                                                 abstract general_category  \n",
       "count                                              336303           336303  \n",
       "unique                                             336253             1213  \n",
       "top       We compute numerically the reheating tempera...               cs  \n",
       "freq                                                    2            83632  "
      ]
     },
     "execution_count": 14,
     "metadata": {},
     "output_type": "execute_result"
    }
   ],
   "source": [
    "docs_df[docs_df.columns[:5]].describe()"
   ]
  },
  {
   "cell_type": "markdown",
   "id": "8e3a91af",
   "metadata": {},
   "source": [
    "### Number of artical which Sub-Category is not taged .\n",
    "* We've 29492 artical which sub-category is not tagged.\n",
    "* Sub-Category is an important feature for building recommendation system or for claasification problem.\n",
    "* We'll drop untagged sub-category from journals dataset."
   ]
  },
  {
   "cell_type": "code",
   "execution_count": 15,
   "id": "e66cbfda",
   "metadata": {},
   "outputs": [],
   "source": [
    "untagged_sub_cat_idx = docs_df[docs_df.no_of_category_per_paper <1].index\n",
    "docs_df = docs_df.drop(untagged_sub_cat_idx)"
   ]
  },
  {
   "cell_type": "code",
   "execution_count": 16,
   "id": "0728215f",
   "metadata": {},
   "outputs": [
    {
     "name": "stdout",
     "output_type": "stream",
     "text": [
      "(29492,)\n",
      "(306811, 9)\n"
     ]
    }
   ],
   "source": [
    "print(untagged_sub_cat_idx.shape)\n",
    "print(docs_df.shape)"
   ]
  },
  {
   "cell_type": "markdown",
   "id": "8b927e62",
   "metadata": {},
   "source": [
    "### Duplicate Title and Abstract\n",
    "* We'll drop those artical which has duplicate Title and Abstract.\n"
   ]
  },
  {
   "cell_type": "code",
   "execution_count": 17,
   "id": "6f7f5207",
   "metadata": {},
   "outputs": [],
   "source": [
    "docs_df = docs_df.drop_duplicates(subset=['title'])\n",
    "docs_df = docs_df.drop_duplicates(subset=['abstract'])"
   ]
  },
  {
   "cell_type": "markdown",
   "id": "13c9f3e3",
   "metadata": {},
   "source": [
    "### Number of articals which Title and Abstract word count is greater then equal to maximum word count\n",
    "* PDFs of Abstract and Title are in Gaussion Distribution. \n",
    "* There is only 1 artical which Title length is greater and equal to 43 words per artical and 1 for Abstract which Abstract word length is > equal to 498.\n",
    "* We'll not drop Title which word length is >= 43 because it will not impact during traing."
   ]
  },
  {
   "cell_type": "code",
   "execution_count": 18,
   "id": "6ba9809c",
   "metadata": {},
   "outputs": [
    {
     "data": {
      "image/png": "[encoded data removed]",
      "text/plain": [
       "<Figure size 432x288 with 1 Axes>"
      ]
     },
     "metadata": {
      "needs_background": "light"
     },
     "output_type": "display_data"
    }
   ],
   "source": [
    "ax = sns.histplot(docs_df.length_of_title)\n",
    "plt.title(\"PDF - Title Word Length of Journal\")\n",
    "plt.show()"
   ]
  },
  {
   "cell_type": "code",
   "execution_count": 19,
   "id": "50e78112",
   "metadata": {},
   "outputs": [
    {
     "data": {
      "image/png": "[encoded data removed]",
      "text/plain": [
       "<Figure size 432x288 with 1 Axes>"
      ]
     },
     "metadata": {
      "needs_background": "light"
     },
     "output_type": "display_data"
    }
   ],
   "source": [
    "sns.ecdfplot(data=docs_df, x=\"length_of_title\")\n",
    "plt.title(\"CDF - Title Word Length of Journal\")\n",
    "plt.show()"
   ]
  },
  {
   "cell_type": "code",
   "execution_count": 20,
   "id": "b65b3e0b",
   "metadata": {},
   "outputs": [
    {
     "data": {
      "text/html": [
       "<div>\n",
       "<style scoped>\n",
       "    .dataframe tbody tr th:only-of-type {\n",
       "        vertical-align: middle;\n",
       "    }\n",
       "\n",
       "    .dataframe tbody tr th {\n",
       "        vertical-align: top;\n",
       "    }\n",
       "\n",
       "    .dataframe thead th {\n",
       "        text-align: right;\n",
       "    }\n",
       "</style>\n",
       "<table border=\"1\" class=\"dataframe\">\n",
       "  <thead>\n",
       "    <tr style=\"text-align: right;\">\n",
       "      <th></th>\n",
       "      <th>id</th>\n",
       "      <th>title</th>\n",
       "      <th>category</th>\n",
       "      <th>abstract</th>\n",
       "      <th>general_category</th>\n",
       "      <th>length_of_title</th>\n",
       "      <th>length_of_abstract</th>\n",
       "      <th>no_of_general_category_per_paper</th>\n",
       "      <th>no_of_category_per_paper</th>\n",
       "    </tr>\n",
       "  </thead>\n",
       "  <tbody>\n",
       "    <tr>\n",
       "      <th>261692</th>\n",
       "      <td>2202.13233</td>\n",
       "      <td>Weakly-bound clusters of atmospheric molecules...</td>\n",
       "      <td>atm-clus</td>\n",
       "      <td>Structural calculations and high-resolution ...</td>\n",
       "      <td>physics</td>\n",
       "      <td>43</td>\n",
       "      <td>203</td>\n",
       "      <td>1</td>\n",
       "      <td>1</td>\n",
       "    </tr>\n",
       "  </tbody>\n",
       "</table>\n",
       "</div>"
      ],
      "text/plain": [
       "                id                                              title  \\\n",
       "261692  2202.13233  Weakly-bound clusters of atmospheric molecules...   \n",
       "\n",
       "        category                                           abstract  \\\n",
       "261692  atm-clus    Structural calculations and high-resolution ...   \n",
       "\n",
       "       general_category  length_of_title  length_of_abstract  \\\n",
       "261692          physics               43                 203   \n",
       "\n",
       "        no_of_general_category_per_paper  no_of_category_per_paper  \n",
       "261692                                 1                         1  "
      ]
     },
     "execution_count": 20,
     "metadata": {},
     "output_type": "execute_result"
    }
   ],
   "source": [
    "docs_df[docs_df.length_of_title >=43]"
   ]
  },
  {
   "cell_type": "code",
   "execution_count": 21,
   "id": "13214e09",
   "metadata": {},
   "outputs": [
    {
     "data": {
      "image/png": "[encoded data removed]",
      "text/plain": [
       "<Figure size 432x288 with 1 Axes>"
      ]
     },
     "metadata": {},
     "output_type": "display_data"
    }
   ],
   "source": [
    "sns.set_theme()\n",
    "ax = sns.histplot(docs_df.length_of_abstract)\n",
    "plt.title(\"PDF - Abstract Word Length of Journal\")\n",
    "plt.show()"
   ]
  },
  {
   "cell_type": "code",
   "execution_count": 22,
   "id": "7352eba9",
   "metadata": {},
   "outputs": [
    {
     "data": {
      "image/png": "[encoded data removed]",
      "text/plain": [
       "<Figure size 432x288 with 1 Axes>"
      ]
     },
     "metadata": {},
     "output_type": "display_data"
    }
   ],
   "source": [
    "sns.ecdfplot(data=docs_df, x=\"length_of_abstract\")\n",
    "plt.title(\"CDF - Abstract Word Length of Journal\")\n",
    "plt.show()"
   ]
  },
  {
   "cell_type": "code",
   "execution_count": 23,
   "id": "e272e3ed",
   "metadata": {},
   "outputs": [
    {
     "data": {
      "text/html": [
       "<div>\n",
       "<style scoped>\n",
       "    .dataframe tbody tr th:only-of-type {\n",
       "        vertical-align: middle;\n",
       "    }\n",
       "\n",
       "    .dataframe tbody tr th {\n",
       "        vertical-align: top;\n",
       "    }\n",
       "\n",
       "    .dataframe thead th {\n",
       "        text-align: right;\n",
       "    }\n",
       "</style>\n",
       "<table border=\"1\" class=\"dataframe\">\n",
       "  <thead>\n",
       "    <tr style=\"text-align: right;\">\n",
       "      <th></th>\n",
       "      <th>id</th>\n",
       "      <th>title</th>\n",
       "      <th>category</th>\n",
       "      <th>abstract</th>\n",
       "      <th>general_category</th>\n",
       "      <th>length_of_title</th>\n",
       "      <th>length_of_abstract</th>\n",
       "      <th>no_of_general_category_per_paper</th>\n",
       "      <th>no_of_category_per_paper</th>\n",
       "    </tr>\n",
       "  </thead>\n",
       "  <tbody>\n",
       "    <tr>\n",
       "      <th>257690</th>\n",
       "      <td>2202.09231</td>\n",
       "      <td>Debootstrapping without Archeology: Stacked Im...</td>\n",
       "      <td>PL</td>\n",
       "      <td>Context: It is common for programming langua...</td>\n",
       "      <td>cs</td>\n",
       "      <td>7</td>\n",
       "      <td>464</td>\n",
       "      <td>1</td>\n",
       "      <td>1</td>\n",
       "    </tr>\n",
       "    <tr>\n",
       "      <th>324661</th>\n",
       "      <td>2206.14606</td>\n",
       "      <td>Building a Secure Software Supply Chain with G...</td>\n",
       "      <td>PL,SE</td>\n",
       "      <td>The software supply chain is becoming a wide...</td>\n",
       "      <td>cs</td>\n",
       "      <td>9</td>\n",
       "      <td>487</td>\n",
       "      <td>1</td>\n",
       "      <td>2</td>\n",
       "    </tr>\n",
       "  </tbody>\n",
       "</table>\n",
       "</div>"
      ],
      "text/plain": [
       "                id                                              title  \\\n",
       "257690  2202.09231  Debootstrapping without Archeology: Stacked Im...   \n",
       "324661  2206.14606  Building a Secure Software Supply Chain with G...   \n",
       "\n",
       "       category                                           abstract  \\\n",
       "257690       PL    Context: It is common for programming langua...   \n",
       "324661    PL,SE    The software supply chain is becoming a wide...   \n",
       "\n",
       "       general_category  length_of_title  length_of_abstract  \\\n",
       "257690               cs                7                 464   \n",
       "324661               cs                9                 487   \n",
       "\n",
       "        no_of_general_category_per_paper  no_of_category_per_paper  \n",
       "257690                                 1                         1  \n",
       "324661                                 1                         2  "
      ]
     },
     "execution_count": 23,
     "metadata": {},
     "output_type": "execute_result"
    }
   ],
   "source": [
    "docs_df[(docs_df.length_of_abstract <498) & (docs_df.length_of_abstract > 450) ]"
   ]
  },
  {
   "cell_type": "markdown",
   "id": "ff004409",
   "metadata": {},
   "source": [
    "## Unique General Categories\n",
    "* We have 20 unique general category in our dataset\n",
    "* As we know that per artical can be categorized more then one unique gereral categories.\n",
    "* Encoded the General category into bit format 0 and 1 form.\n",
    "* Merged artical datafame with Multi-label general category. "
   ]
  },
  {
   "cell_type": "code",
   "execution_count": 24,
   "id": "fdcc8b12",
   "metadata": {},
   "outputs": [],
   "source": [
    "mlb = MultiLabelBinarizer()\n",
    "labels = mlb.fit_transform(docs_df.general_category.apply(lambda x : x.split(',')))\n",
    "unique_general_categories = mlb.classes_"
   ]
  },
  {
   "cell_type": "code",
   "execution_count": 25,
   "id": "402220f2",
   "metadata": {},
   "outputs": [
    {
     "name": "stdout",
     "output_type": "stream",
     "text": [
      "['astro-ph' 'cond-mat' 'cs' 'econ' 'eess' 'gr-qc' 'hep-ex' 'hep-lat'\n",
      " 'hep-ph' 'hep-th' 'math' 'math-ph' 'nlin' 'nucl-ex' 'nucl-th' 'physics'\n",
      " 'q-bio' 'q-fin' 'quant-ph' 'stat']\n"
     ]
    }
   ],
   "source": [
    "print(unique_general_categories)"
   ]
  },
  {
   "cell_type": "code",
   "execution_count": 26,
   "id": "3d63264c",
   "metadata": {},
   "outputs": [],
   "source": [
    "docs_df[unique_general_categories] = labels"
   ]
  },
  {
   "cell_type": "code",
   "execution_count": 27,
   "id": "bd9257df",
   "metadata": {},
   "outputs": [
    {
     "data": {
      "text/html": [
       "<div>\n",
       "<style scoped>\n",
       "    .dataframe tbody tr th:only-of-type {\n",
       "        vertical-align: middle;\n",
       "    }\n",
       "\n",
       "    .dataframe tbody tr th {\n",
       "        vertical-align: top;\n",
       "    }\n",
       "\n",
       "    .dataframe thead th {\n",
       "        text-align: right;\n",
       "    }\n",
       "</style>\n",
       "<table border=\"1\" class=\"dataframe\">\n",
       "  <thead>\n",
       "    <tr style=\"text-align: right;\">\n",
       "      <th></th>\n",
       "      <th>id</th>\n",
       "      <th>title</th>\n",
       "      <th>category</th>\n",
       "      <th>abstract</th>\n",
       "      <th>general_category</th>\n",
       "      <th>length_of_title</th>\n",
       "      <th>length_of_abstract</th>\n",
       "      <th>no_of_general_category_per_paper</th>\n",
       "      <th>no_of_category_per_paper</th>\n",
       "      <th>astro-ph</th>\n",
       "      <th>...</th>\n",
       "      <th>math</th>\n",
       "      <th>math-ph</th>\n",
       "      <th>nlin</th>\n",
       "      <th>nucl-ex</th>\n",
       "      <th>nucl-th</th>\n",
       "      <th>physics</th>\n",
       "      <th>q-bio</th>\n",
       "      <th>q-fin</th>\n",
       "      <th>quant-ph</th>\n",
       "      <th>stat</th>\n",
       "    </tr>\n",
       "  </thead>\n",
       "  <tbody>\n",
       "    <tr>\n",
       "      <th>0</th>\n",
       "      <td>0704.0033</td>\n",
       "      <td>Convergence of the discrete dipole approximati...</td>\n",
       "      <td>comp-ph,optics</td>\n",
       "      <td>We performed a rigorous theoretical converge...</td>\n",
       "      <td>physics</td>\n",
       "      <td>9</td>\n",
       "      <td>133</td>\n",
       "      <td>1</td>\n",
       "      <td>2</td>\n",
       "      <td>0</td>\n",
       "      <td>...</td>\n",
       "      <td>0</td>\n",
       "      <td>0</td>\n",
       "      <td>0</td>\n",
       "      <td>0</td>\n",
       "      <td>0</td>\n",
       "      <td>1</td>\n",
       "      <td>0</td>\n",
       "      <td>0</td>\n",
       "      <td>0</td>\n",
       "      <td>0</td>\n",
       "    </tr>\n",
       "    <tr>\n",
       "      <th>1</th>\n",
       "      <td>0704.0038</td>\n",
       "      <td>The discrete dipole approximation: an overview...</td>\n",
       "      <td>comp-ph,optics</td>\n",
       "      <td>We present a review of the discrete dipole a...</td>\n",
       "      <td>physics</td>\n",
       "      <td>9</td>\n",
       "      <td>96</td>\n",
       "      <td>1</td>\n",
       "      <td>2</td>\n",
       "      <td>0</td>\n",
       "      <td>...</td>\n",
       "      <td>0</td>\n",
       "      <td>0</td>\n",
       "      <td>0</td>\n",
       "      <td>0</td>\n",
       "      <td>0</td>\n",
       "      <td>1</td>\n",
       "      <td>0</td>\n",
       "      <td>0</td>\n",
       "      <td>0</td>\n",
       "      <td>0</td>\n",
       "    </tr>\n",
       "  </tbody>\n",
       "</table>\n",
       "<p>2 rows × 29 columns</p>\n",
       "</div>"
      ],
      "text/plain": [
       "          id                                              title  \\\n",
       "0  0704.0033  Convergence of the discrete dipole approximati...   \n",
       "1  0704.0038  The discrete dipole approximation: an overview...   \n",
       "\n",
       "         category                                           abstract  \\\n",
       "0  comp-ph,optics    We performed a rigorous theoretical converge...   \n",
       "1  comp-ph,optics    We present a review of the discrete dipole a...   \n",
       "\n",
       "  general_category  length_of_title  length_of_abstract  \\\n",
       "0          physics                9                 133   \n",
       "1          physics                9                  96   \n",
       "\n",
       "   no_of_general_category_per_paper  no_of_category_per_paper  astro-ph  ...  \\\n",
       "0                                 1                         2         0  ...   \n",
       "1                                 1                         2         0  ...   \n",
       "\n",
       "   math  math-ph  nlin  nucl-ex  nucl-th  physics  q-bio  q-fin  quant-ph  \\\n",
       "0     0        0     0        0        0        1      0      0         0   \n",
       "1     0        0     0        0        0        1      0      0         0   \n",
       "\n",
       "   stat  \n",
       "0     0  \n",
       "1     0  \n",
       "\n",
       "[2 rows x 29 columns]"
      ]
     },
     "execution_count": 27,
     "metadata": {},
     "output_type": "execute_result"
    }
   ],
   "source": [
    "docs_df.head(2)"
   ]
  },
  {
   "cell_type": "code",
   "execution_count": 168,
   "id": "584aba04",
   "metadata": {},
   "outputs": [
    {
     "ename": "NameError",
     "evalue": "name 'docs_df' is not defined",
     "output_type": "error",
     "traceback": [
      "\u001b[0;31m---------------------------------------------------------------------------\u001b[0m",
      "\u001b[0;31mNameError\u001b[0m                                 Traceback (most recent call last)",
      "Input \u001b[0;32mIn [168]\u001b[0m, in \u001b[0;36m<cell line: 1>\u001b[0;34m()\u001b[0m\n\u001b[0;32m----> 1\u001b[0m \u001b[43mdocs_df\u001b[49m\u001b[38;5;241m.\u001b[39mto_csv(\u001b[38;5;124m'\u001b[39m\u001b[38;5;124mjournal-resSys-dataset.csv\u001b[39m\u001b[38;5;124m'\u001b[39m)\n",
      "\u001b[0;31mNameError\u001b[0m: name 'docs_df' is not defined"
     ]
    }
   ],
   "source": [
    "docs_df.to_csv('journal-resSys-dataset.csv')"
   ]
  },
  {
   "cell_type": "code",
   "execution_count": null,
   "id": "f1deb924",
   "metadata": {},
   "outputs": [],
   "source": []
  },
  {
   "cell_type": "code",
   "execution_count": 169,
   "id": "8a6e0a8b",
   "metadata": {},
   "outputs": [
    {
     "name": "stderr",
     "output_type": "stream",
     "text": [
      "/var/folders/7x/sqswkg891lg038zn9b1jw7jr0000gn/T/ipykernel_45639/4135611234.py:1: DtypeWarning: Columns (1) have mixed types. Specify dtype option on import or set low_memory=False.\n",
      "  df = pd.read_csv('journal-resSys-dataset.csv')\n"
     ]
    }
   ],
   "source": [
    "df = pd.read_csv('journal-resSys-dataset.csv')"
   ]
  },
  {
   "cell_type": "code",
   "execution_count": 170,
   "id": "5adf6755",
   "metadata": {},
   "outputs": [],
   "source": [
    "pd.DataFrame({'title': df.title, 'abstract':df.abstract}).to_csv('journal-title-abstract.csv')"
   ]
  },
  {
   "cell_type": "code",
   "execution_count": 171,
   "id": "eae3e678",
   "metadata": {},
   "outputs": [],
   "source": [
    "pd.DataFrame({'title': df.title}).to_csv('journal-title.csv')"
   ]
  },
  {
   "cell_type": "code",
   "execution_count": 172,
   "id": "6ae25bc9",
   "metadata": {},
   "outputs": [],
   "source": [
    "pd.DataFrame({'abstract': df.abstract}).to_csv('journal-abstract.csv')"
   ]
  },
  {
   "cell_type": "markdown",
   "id": "1775dd52",
   "metadata": {},
   "source": [
    "## Principal Components of the Title TF-IDF Matrix by Category"
   ]
  },
  {
   "cell_type": "code",
   "execution_count": 29,
   "id": "57a84e12",
   "metadata": {},
   "outputs": [],
   "source": [
    "docs_df_50k = docs_df.sample(n = 50000)"
   ]
  },
  {
   "cell_type": "code",
   "execution_count": 30,
   "id": "e665f579",
   "metadata": {},
   "outputs": [
    {
     "data": {
      "text/plain": [
       "(50000, 29)"
      ]
     },
     "execution_count": 30,
     "metadata": {},
     "output_type": "execute_result"
    }
   ],
   "source": [
    "docs_df_50k.shape"
   ]
  },
  {
   "cell_type": "code",
   "execution_count": 32,
   "id": "fca1375b",
   "metadata": {},
   "outputs": [],
   "source": [
    "title_vectorizer_tfidf = TfidfVectorizer(stop_words=stop_words).fit_transform(docs_df_50k.title.values).todense()"
   ]
  },
  {
   "cell_type": "code",
   "execution_count": 33,
   "id": "f8f2b2cc",
   "metadata": {},
   "outputs": [
    {
     "name": "stderr",
     "output_type": "stream",
     "text": [
      "/Users/prateeksahu/miniforge3/lib/python3.9/site-packages/sklearn/utils/validation.py:727: FutureWarning: np.matrix usage is deprecated in 1.0 and will raise a TypeError in 1.2. Please convert to a numpy array with np.asarray. For more information see: https://numpy.org/doc/stable/reference/generated/numpy.matrix.html\n",
      "  warnings.warn(\n"
     ]
    }
   ],
   "source": [
    "pca = PCA(n_components=2).fit(title_vectorizer_tfidf)"
   ]
  },
  {
   "cell_type": "code",
   "execution_count": 38,
   "id": "c691ee86",
   "metadata": {},
   "outputs": [
    {
     "name": "stderr",
     "output_type": "stream",
     "text": [
      "/Users/prateeksahu/miniforge3/lib/python3.9/site-packages/sklearn/utils/validation.py:727: FutureWarning: np.matrix usage is deprecated in 1.0 and will raise a TypeError in 1.2. Please convert to a numpy array with np.asarray. For more information see: https://numpy.org/doc/stable/reference/generated/numpy.matrix.html\n",
      "  warnings.warn(\n"
     ]
    }
   ],
   "source": [
    "data2D = pd.DataFrame(pca.transform(title_vectorizer_tfidf), columns = ['PC1','PC2'])"
   ]
  },
  {
   "cell_type": "code",
   "execution_count": 43,
   "id": "265c5cd6",
   "metadata": {},
   "outputs": [],
   "source": [
    "color = docs_df_50k.iloc[:,9:].apply(lambda x: x.index[x>0][0], axis = 1)\n",
    "data2D['category'] = color.to_list()"
   ]
  },
  {
   "cell_type": "code",
   "execution_count": 55,
   "id": "09424f84",
   "metadata": {},
   "outputs": [],
   "source": [
    "pickle.dump(pca, open(\"pca.pickle\",\"wb\"))"
   ]
  },
  {
   "cell_type": "code",
   "execution_count": 53,
   "id": "2360c4f7",
   "metadata": {},
   "outputs": [
    {
     "data": {
      "text/plain": [
       "<AxesSubplot:xlabel='PC1', ylabel='PC2'>"
      ]
     },
     "execution_count": 53,
     "metadata": {},
     "output_type": "execute_result"
    },
    {
     "data": {
      "image/png": "[encoded data removed]",
      "text/plain": [
       "<Figure size 1080x720 with 1 Axes>"
      ]
     },
     "metadata": {},
     "output_type": "display_data"
    }
   ],
   "source": [
    "sns.set(rc={'figure.figsize':(15,10)})\n",
    "sns.scatterplot(data=data2D , x='PC1', y='PC2' ,hue='category')"
   ]
  },
  {
   "cell_type": "markdown",
   "id": "0b88bc82",
   "metadata": {},
   "source": [
    "## Text Preprocessing"
   ]
  },
  {
   "cell_type": "code",
   "execution_count": 3,
   "id": "657fc3a9",
   "metadata": {},
   "outputs": [],
   "source": [
    "journal_data = pd.read_csv('journal-resSys-dataset.csv', dtype={'id': str}, index_col=False) "
   ]
  },
  {
   "cell_type": "code",
   "execution_count": 4,
   "id": "dac412e5",
   "metadata": {},
   "outputs": [],
   "source": [
    "journal_data = journal_data.loc[:, ~journal_data.columns.str.contains('^Unnamed')]"
   ]
  },
  {
   "cell_type": "code",
   "execution_count": 5,
   "id": "1d28400e",
   "metadata": {},
   "outputs": [
    {
     "data": {
      "text/plain": [
       "id                                  306674\n",
       "title                               306674\n",
       "category                            303050\n",
       "abstract                            306674\n",
       "general_category                    306674\n",
       "length_of_title                     306674\n",
       "length_of_abstract                  306674\n",
       "no_of_general_category_per_paper    306674\n",
       "no_of_category_per_paper            306674\n",
       "astro-ph                            306674\n",
       "cond-mat                            306674\n",
       "cs                                  306674\n",
       "econ                                306674\n",
       "eess                                306674\n",
       "gr-qc                               306674\n",
       "hep-ex                              306674\n",
       "hep-lat                             306674\n",
       "hep-ph                              306674\n",
       "hep-th                              306674\n",
       "math                                306674\n",
       "math-ph                             306674\n",
       "nlin                                306674\n",
       "nucl-ex                             306674\n",
       "nucl-th                             306674\n",
       "physics                             306674\n",
       "q-bio                               306674\n",
       "q-fin                               306674\n",
       "quant-ph                            306674\n",
       "stat                                306674\n",
       "dtype: int64"
      ]
     },
     "execution_count": 5,
     "metadata": {},
     "output_type": "execute_result"
    }
   ],
   "source": [
    "journal_data.count()"
   ]
  },
  {
   "cell_type": "markdown",
   "id": "a28a3000",
   "metadata": {},
   "source": [
    "# Research Paper which belong from Computer Science (CS)\n",
    "* We've 83,5746 research papers which general category is cs (Computer Science)"
   ]
  },
  {
   "cell_type": "code",
   "execution_count": 6,
   "id": "142b3730",
   "metadata": {},
   "outputs": [],
   "source": [
    "cs_journal_data = journal_data[journal_data.general_category == 'cs']"
   ]
  },
  {
   "cell_type": "code",
   "execution_count": 7,
   "id": "1f4369a7",
   "metadata": {},
   "outputs": [],
   "source": [
    "cs_journal_data.to_csv('CS-journal-resSys-dataset.csv', index=False)"
   ]
  },
  {
   "cell_type": "code",
   "execution_count": 8,
   "id": "a3af47ba",
   "metadata": {},
   "outputs": [],
   "source": [
    "cs_journal_data = pd.read_csv('CS-journal-resSys-dataset.csv', dtype={'id': str},)"
   ]
  },
  {
   "cell_type": "code",
   "execution_count": 9,
   "id": "f0eea1a1",
   "metadata": {},
   "outputs": [
    {
     "data": {
      "text/html": [
       "<div>\n",
       "<style scoped>\n",
       "    .dataframe tbody tr th:only-of-type {\n",
       "        vertical-align: middle;\n",
       "    }\n",
       "\n",
       "    .dataframe tbody tr th {\n",
       "        vertical-align: top;\n",
       "    }\n",
       "\n",
       "    .dataframe thead th {\n",
       "        text-align: right;\n",
       "    }\n",
       "</style>\n",
       "<table border=\"1\" class=\"dataframe\">\n",
       "  <thead>\n",
       "    <tr style=\"text-align: right;\">\n",
       "      <th></th>\n",
       "      <th>id</th>\n",
       "      <th>title</th>\n",
       "      <th>category</th>\n",
       "      <th>abstract</th>\n",
       "      <th>general_category</th>\n",
       "      <th>length_of_title</th>\n",
       "      <th>length_of_abstract</th>\n",
       "      <th>no_of_general_category_per_paper</th>\n",
       "      <th>no_of_category_per_paper</th>\n",
       "      <th>astro-ph</th>\n",
       "      <th>...</th>\n",
       "      <th>math</th>\n",
       "      <th>math-ph</th>\n",
       "      <th>nlin</th>\n",
       "      <th>nucl-ex</th>\n",
       "      <th>nucl-th</th>\n",
       "      <th>physics</th>\n",
       "      <th>q-bio</th>\n",
       "      <th>q-fin</th>\n",
       "      <th>quant-ph</th>\n",
       "      <th>stat</th>\n",
       "    </tr>\n",
       "  </thead>\n",
       "  <tbody>\n",
       "    <tr>\n",
       "      <th>0</th>\n",
       "      <td>0805.1877</td>\n",
       "      <td>Perfect tag identification protocol in RFID ne...</td>\n",
       "      <td>NI</td>\n",
       "      <td>Radio Frequency IDentification (RFID) system...</td>\n",
       "      <td>cs</td>\n",
       "      <td>7</td>\n",
       "      <td>179</td>\n",
       "      <td>1</td>\n",
       "      <td>1</td>\n",
       "      <td>0</td>\n",
       "      <td>...</td>\n",
       "      <td>0</td>\n",
       "      <td>0</td>\n",
       "      <td>0</td>\n",
       "      <td>0</td>\n",
       "      <td>0</td>\n",
       "      <td>0</td>\n",
       "      <td>0</td>\n",
       "      <td>0</td>\n",
       "      <td>0</td>\n",
       "      <td>0</td>\n",
       "    </tr>\n",
       "    <tr>\n",
       "      <th>1</th>\n",
       "      <td>0809.2093</td>\n",
       "      <td>An approximation algorithm for approximation rank</td>\n",
       "      <td>CC</td>\n",
       "      <td>One of the strongest techniques available fo...</td>\n",
       "      <td>cs</td>\n",
       "      <td>6</td>\n",
       "      <td>188</td>\n",
       "      <td>1</td>\n",
       "      <td>1</td>\n",
       "      <td>0</td>\n",
       "      <td>...</td>\n",
       "      <td>0</td>\n",
       "      <td>0</td>\n",
       "      <td>0</td>\n",
       "      <td>0</td>\n",
       "      <td>0</td>\n",
       "      <td>0</td>\n",
       "      <td>0</td>\n",
       "      <td>0</td>\n",
       "      <td>0</td>\n",
       "      <td>0</td>\n",
       "    </tr>\n",
       "    <tr>\n",
       "      <th>2</th>\n",
       "      <td>0901.3590</td>\n",
       "      <td>On the Dual Formulation of Boosting Algorithms</td>\n",
       "      <td>LG,CV</td>\n",
       "      <td>We study boosting algorithms from a new pers...</td>\n",
       "      <td>cs</td>\n",
       "      <td>7</td>\n",
       "      <td>141</td>\n",
       "      <td>1</td>\n",
       "      <td>2</td>\n",
       "      <td>0</td>\n",
       "      <td>...</td>\n",
       "      <td>0</td>\n",
       "      <td>0</td>\n",
       "      <td>0</td>\n",
       "      <td>0</td>\n",
       "      <td>0</td>\n",
       "      <td>0</td>\n",
       "      <td>0</td>\n",
       "      <td>0</td>\n",
       "      <td>0</td>\n",
       "      <td>0</td>\n",
       "    </tr>\n",
       "    <tr>\n",
       "      <th>3</th>\n",
       "      <td>0909.5521</td>\n",
       "      <td>Clique and Vertex Cover are solvable in polyno...</td>\n",
       "      <td>LO,CC</td>\n",
       "      <td>In this manuscript, assuming that Graedel's ...</td>\n",
       "      <td>cs</td>\n",
       "      <td>20</td>\n",
       "      <td>128</td>\n",
       "      <td>1</td>\n",
       "      <td>2</td>\n",
       "      <td>0</td>\n",
       "      <td>...</td>\n",
       "      <td>0</td>\n",
       "      <td>0</td>\n",
       "      <td>0</td>\n",
       "      <td>0</td>\n",
       "      <td>0</td>\n",
       "      <td>0</td>\n",
       "      <td>0</td>\n",
       "      <td>0</td>\n",
       "      <td>0</td>\n",
       "      <td>0</td>\n",
       "    </tr>\n",
       "    <tr>\n",
       "      <th>4</th>\n",
       "      <td>0912.0228</td>\n",
       "      <td>Answering Hilbert's 1st Problem</td>\n",
       "      <td>LO</td>\n",
       "      <td>Hilbert's first problem is of importance in ...</td>\n",
       "      <td>cs</td>\n",
       "      <td>4</td>\n",
       "      <td>104</td>\n",
       "      <td>1</td>\n",
       "      <td>1</td>\n",
       "      <td>0</td>\n",
       "      <td>...</td>\n",
       "      <td>0</td>\n",
       "      <td>0</td>\n",
       "      <td>0</td>\n",
       "      <td>0</td>\n",
       "      <td>0</td>\n",
       "      <td>0</td>\n",
       "      <td>0</td>\n",
       "      <td>0</td>\n",
       "      <td>0</td>\n",
       "      <td>0</td>\n",
       "    </tr>\n",
       "  </tbody>\n",
       "</table>\n",
       "<p>5 rows × 29 columns</p>\n",
       "</div>"
      ],
      "text/plain": [
       "          id                                              title category  \\\n",
       "0  0805.1877  Perfect tag identification protocol in RFID ne...       NI   \n",
       "1  0809.2093  An approximation algorithm for approximation rank       CC   \n",
       "2  0901.3590     On the Dual Formulation of Boosting Algorithms    LG,CV   \n",
       "3  0909.5521  Clique and Vertex Cover are solvable in polyno...    LO,CC   \n",
       "4  0912.0228                    Answering Hilbert's 1st Problem       LO   \n",
       "\n",
       "                                            abstract general_category  \\\n",
       "0    Radio Frequency IDentification (RFID) system...               cs   \n",
       "1    One of the strongest techniques available fo...               cs   \n",
       "2    We study boosting algorithms from a new pers...               cs   \n",
       "3    In this manuscript, assuming that Graedel's ...               cs   \n",
       "4    Hilbert's first problem is of importance in ...               cs   \n",
       "\n",
       "   length_of_title  length_of_abstract  no_of_general_category_per_paper  \\\n",
       "0                7                 179                                 1   \n",
       "1                6                 188                                 1   \n",
       "2                7                 141                                 1   \n",
       "3               20                 128                                 1   \n",
       "4                4                 104                                 1   \n",
       "\n",
       "   no_of_category_per_paper  astro-ph  ...  math  math-ph  nlin  nucl-ex  \\\n",
       "0                         1         0  ...     0        0     0        0   \n",
       "1                         1         0  ...     0        0     0        0   \n",
       "2                         2         0  ...     0        0     0        0   \n",
       "3                         2         0  ...     0        0     0        0   \n",
       "4                         1         0  ...     0        0     0        0   \n",
       "\n",
       "   nucl-th  physics  q-bio  q-fin  quant-ph  stat  \n",
       "0        0        0      0      0         0     0  \n",
       "1        0        0      0      0         0     0  \n",
       "2        0        0      0      0         0     0  \n",
       "3        0        0      0      0         0     0  \n",
       "4        0        0      0      0         0     0  \n",
       "\n",
       "[5 rows x 29 columns]"
      ]
     },
     "execution_count": 9,
     "metadata": {},
     "output_type": "execute_result"
    }
   ],
   "source": [
    "cs_journal_data.head()"
   ]
  },
  {
   "cell_type": "code",
   "execution_count": 10,
   "id": "59c58f82",
   "metadata": {},
   "outputs": [],
   "source": [
    "# we use the list of stop words that are downloaded from nltk lib.\n",
    "stop_words = set(stopwords.words('english'))\n",
    "\n",
    "def nlp_preprocessing(data,total_text, index, column):\n",
    "    if type(total_text) is not int:\n",
    "        string = \"\"\n",
    "        for words in total_text.split():\n",
    "            # remove the special chars in review like '\"#$@!%^&*()_+-~?>< etc.\n",
    "            word = (\"\".join(e for e in words if e.isalnum()))\n",
    "            # Conver all letters to lower-case\n",
    "            word = word.lower()\n",
    "            # stop-word removal\n",
    "            if not word in stop_words:\n",
    "                string += word + \" \"\n",
    "        data[column][index] = string\n",
    "    return data\n"
   ]
  },
  {
   "cell_type": "code",
   "execution_count": 11,
   "id": "d7a2486e",
   "metadata": {},
   "outputs": [
    {
     "name": "stderr",
     "output_type": "stream",
     "text": [
      "/var/folders/7x/sqswkg891lg038zn9b1jw7jr0000gn/T/ipykernel_48365/3525915718.py:15: SettingWithCopyWarning: \n",
      "A value is trying to be set on a copy of a slice from a DataFrame\n",
      "\n",
      "See the caveats in the documentation: https://pandas.pydata.org/pandas-docs/stable/user_guide/indexing.html#returning-a-view-versus-a-copy\n",
      "  data[column][index] = string\n"
     ]
    },
    {
     "ename": "KeyboardInterrupt",
     "evalue": "",
     "output_type": "error",
     "traceback": [
      "\u001b[0;31m---------------------------------------------------------------------------\u001b[0m",
      "\u001b[0;31mKeyboardInterrupt\u001b[0m                         Traceback (most recent call last)",
      "Input \u001b[0;32mIn [11]\u001b[0m, in \u001b[0;36m<cell line: 2>\u001b[0;34m()\u001b[0m\n\u001b[1;32m      1\u001b[0m \u001b[38;5;66;03m# # we take each title and we text-preprocess it.\u001b[39;00m\n\u001b[1;32m      2\u001b[0m \u001b[38;5;28;01mfor\u001b[39;00m index, row \u001b[38;5;129;01min\u001b[39;00m cs_journal_data\u001b[38;5;241m.\u001b[39miterrows():\n\u001b[0;32m----> 3\u001b[0m     \u001b[43mnlp_preprocessing\u001b[49m\u001b[43m(\u001b[49m\u001b[43mcs_journal_data\u001b[49m\u001b[43m,\u001b[49m\u001b[43mrow\u001b[49m\u001b[43m[\u001b[49m\u001b[38;5;124;43m'\u001b[39;49m\u001b[38;5;124;43mtitle\u001b[39;49m\u001b[38;5;124;43m'\u001b[39;49m\u001b[43m]\u001b[49m\u001b[43m,\u001b[49m\u001b[43m \u001b[49m\u001b[43mindex\u001b[49m\u001b[43m,\u001b[49m\u001b[43m \u001b[49m\u001b[38;5;124;43m'\u001b[39;49m\u001b[38;5;124;43mtitle\u001b[39;49m\u001b[38;5;124;43m'\u001b[39;49m\u001b[43m)\u001b[49m\n",
      "Input \u001b[0;32mIn [10]\u001b[0m, in \u001b[0;36mnlp_preprocessing\u001b[0;34m(data, total_text, index, column)\u001b[0m\n\u001b[1;32m     13\u001b[0m         \u001b[38;5;28;01mif\u001b[39;00m \u001b[38;5;129;01mnot\u001b[39;00m word \u001b[38;5;129;01min\u001b[39;00m stop_words:\n\u001b[1;32m     14\u001b[0m             string \u001b[38;5;241m+\u001b[39m\u001b[38;5;241m=\u001b[39m word \u001b[38;5;241m+\u001b[39m \u001b[38;5;124m\"\u001b[39m\u001b[38;5;124m \u001b[39m\u001b[38;5;124m\"\u001b[39m\n\u001b[0;32m---> 15\u001b[0m     data[column][index] \u001b[38;5;241m=\u001b[39m string\n\u001b[1;32m     16\u001b[0m \u001b[38;5;28;01mreturn\u001b[39;00m data\n",
      "File \u001b[0;32m~/miniforge3/lib/python3.9/site-packages/pandas/core/series.py:1075\u001b[0m, in \u001b[0;36mSeries.__setitem__\u001b[0;34m(self, key, value)\u001b[0m\n\u001b[1;32m   1073\u001b[0m check_deprecated_indexers(key)\n\u001b[1;32m   1074\u001b[0m key \u001b[38;5;241m=\u001b[39m com\u001b[38;5;241m.\u001b[39mapply_if_callable(key, \u001b[38;5;28mself\u001b[39m)\n\u001b[0;32m-> 1075\u001b[0m cacher_needs_updating \u001b[38;5;241m=\u001b[39m \u001b[38;5;28;43mself\u001b[39;49m\u001b[38;5;241;43m.\u001b[39;49m\u001b[43m_check_is_chained_assignment_possible\u001b[49m\u001b[43m(\u001b[49m\u001b[43m)\u001b[49m\n\u001b[1;32m   1077\u001b[0m \u001b[38;5;28;01mif\u001b[39;00m key \u001b[38;5;129;01mis\u001b[39;00m \u001b[38;5;28mEllipsis\u001b[39m:\n\u001b[1;32m   1078\u001b[0m     key \u001b[38;5;241m=\u001b[39m \u001b[38;5;28mslice\u001b[39m(\u001b[38;5;28;01mNone\u001b[39;00m)\n",
      "File \u001b[0;32m~/miniforge3/lib/python3.9/site-packages/pandas/core/series.py:1256\u001b[0m, in \u001b[0;36mSeries._check_is_chained_assignment_possible\u001b[0;34m(self)\u001b[0m\n\u001b[1;32m   1254\u001b[0m     ref \u001b[38;5;241m=\u001b[39m \u001b[38;5;28mself\u001b[39m\u001b[38;5;241m.\u001b[39m_get_cacher()\n\u001b[1;32m   1255\u001b[0m     \u001b[38;5;28;01mif\u001b[39;00m ref \u001b[38;5;129;01mis\u001b[39;00m \u001b[38;5;129;01mnot\u001b[39;00m \u001b[38;5;28;01mNone\u001b[39;00m \u001b[38;5;129;01mand\u001b[39;00m ref\u001b[38;5;241m.\u001b[39m_is_mixed_type:\n\u001b[0;32m-> 1256\u001b[0m         \u001b[38;5;28;43mself\u001b[39;49m\u001b[38;5;241;43m.\u001b[39;49m\u001b[43m_check_setitem_copy\u001b[49m\u001b[43m(\u001b[49m\u001b[43mt\u001b[49m\u001b[38;5;241;43m=\u001b[39;49m\u001b[38;5;124;43m\"\u001b[39;49m\u001b[38;5;124;43mreferent\u001b[39;49m\u001b[38;5;124;43m\"\u001b[39;49m\u001b[43m,\u001b[49m\u001b[43m \u001b[49m\u001b[43mforce\u001b[49m\u001b[38;5;241;43m=\u001b[39;49m\u001b[38;5;28;43;01mTrue\u001b[39;49;00m\u001b[43m)\u001b[49m\n\u001b[1;32m   1257\u001b[0m     \u001b[38;5;28;01mreturn\u001b[39;00m \u001b[38;5;28;01mTrue\u001b[39;00m\n\u001b[1;32m   1258\u001b[0m \u001b[38;5;28;01mreturn\u001b[39;00m \u001b[38;5;28msuper\u001b[39m()\u001b[38;5;241m.\u001b[39m_check_is_chained_assignment_possible()\n",
      "File \u001b[0;32m~/miniforge3/lib/python3.9/site-packages/pandas/core/generic.py:4018\u001b[0m, in \u001b[0;36mNDFrame._check_setitem_copy\u001b[0;34m(self, t, force)\u001b[0m\n\u001b[1;32m   4016\u001b[0m     \u001b[38;5;28;01mraise\u001b[39;00m com\u001b[38;5;241m.\u001b[39mSettingWithCopyError(t)\n\u001b[1;32m   4017\u001b[0m \u001b[38;5;28;01melif\u001b[39;00m value \u001b[38;5;241m==\u001b[39m \u001b[38;5;124m\"\u001b[39m\u001b[38;5;124mwarn\u001b[39m\u001b[38;5;124m\"\u001b[39m:\n\u001b[0;32m-> 4018\u001b[0m     warnings\u001b[38;5;241m.\u001b[39mwarn(t, com\u001b[38;5;241m.\u001b[39mSettingWithCopyWarning, stacklevel\u001b[38;5;241m=\u001b[39m\u001b[43mfind_stack_level\u001b[49m\u001b[43m(\u001b[49m\u001b[43m)\u001b[49m)\n",
      "File \u001b[0;32m~/miniforge3/lib/python3.9/site-packages/pandas/util/_exceptions.py:32\u001b[0m, in \u001b[0;36mfind_stack_level\u001b[0;34m()\u001b[0m\n\u001b[1;32m     27\u001b[0m \u001b[38;5;28;01mdef\u001b[39;00m \u001b[38;5;21mfind_stack_level\u001b[39m() \u001b[38;5;241m-\u001b[39m\u001b[38;5;241m>\u001b[39m \u001b[38;5;28mint\u001b[39m:\n\u001b[1;32m     28\u001b[0m     \u001b[38;5;124;03m\"\"\"\u001b[39;00m\n\u001b[1;32m     29\u001b[0m \u001b[38;5;124;03m    Find the first place in the stack that is not inside pandas\u001b[39;00m\n\u001b[1;32m     30\u001b[0m \u001b[38;5;124;03m    (tests notwithstanding).\u001b[39;00m\n\u001b[1;32m     31\u001b[0m \u001b[38;5;124;03m    \"\"\"\u001b[39;00m\n\u001b[0;32m---> 32\u001b[0m     stack \u001b[38;5;241m=\u001b[39m \u001b[43minspect\u001b[49m\u001b[38;5;241;43m.\u001b[39;49m\u001b[43mstack\u001b[49m\u001b[43m(\u001b[49m\u001b[43m)\u001b[49m\n\u001b[1;32m     34\u001b[0m     \u001b[38;5;28;01mimport\u001b[39;00m \u001b[38;5;21;01mpandas\u001b[39;00m \u001b[38;5;28;01mas\u001b[39;00m \u001b[38;5;21;01mpd\u001b[39;00m\n\u001b[1;32m     36\u001b[0m     pkg_dir \u001b[38;5;241m=\u001b[39m os\u001b[38;5;241m.\u001b[39mpath\u001b[38;5;241m.\u001b[39mdirname(pd\u001b[38;5;241m.\u001b[39m\u001b[38;5;18m__file__\u001b[39m)\n",
      "File \u001b[0;32m~/miniforge3/lib/python3.9/inspect.py:1554\u001b[0m, in \u001b[0;36mstack\u001b[0;34m(context)\u001b[0m\n\u001b[1;32m   1552\u001b[0m \u001b[38;5;28;01mdef\u001b[39;00m \u001b[38;5;21mstack\u001b[39m(context\u001b[38;5;241m=\u001b[39m\u001b[38;5;241m1\u001b[39m):\n\u001b[1;32m   1553\u001b[0m     \u001b[38;5;124;03m\"\"\"Return a list of records for the stack above the caller's frame.\"\"\"\u001b[39;00m\n\u001b[0;32m-> 1554\u001b[0m     \u001b[38;5;28;01mreturn\u001b[39;00m \u001b[43mgetouterframes\u001b[49m\u001b[43m(\u001b[49m\u001b[43msys\u001b[49m\u001b[38;5;241;43m.\u001b[39;49m\u001b[43m_getframe\u001b[49m\u001b[43m(\u001b[49m\u001b[38;5;241;43m1\u001b[39;49m\u001b[43m)\u001b[49m\u001b[43m,\u001b[49m\u001b[43m \u001b[49m\u001b[43mcontext\u001b[49m\u001b[43m)\u001b[49m\n",
      "File \u001b[0;32m~/miniforge3/lib/python3.9/inspect.py:1531\u001b[0m, in \u001b[0;36mgetouterframes\u001b[0;34m(frame, context)\u001b[0m\n\u001b[1;32m   1529\u001b[0m framelist \u001b[38;5;241m=\u001b[39m []\n\u001b[1;32m   1530\u001b[0m \u001b[38;5;28;01mwhile\u001b[39;00m frame:\n\u001b[0;32m-> 1531\u001b[0m     frameinfo \u001b[38;5;241m=\u001b[39m (frame,) \u001b[38;5;241m+\u001b[39m \u001b[43mgetframeinfo\u001b[49m\u001b[43m(\u001b[49m\u001b[43mframe\u001b[49m\u001b[43m,\u001b[49m\u001b[43m \u001b[49m\u001b[43mcontext\u001b[49m\u001b[43m)\u001b[49m\n\u001b[1;32m   1532\u001b[0m     framelist\u001b[38;5;241m.\u001b[39mappend(FrameInfo(\u001b[38;5;241m*\u001b[39mframeinfo))\n\u001b[1;32m   1533\u001b[0m     frame \u001b[38;5;241m=\u001b[39m frame\u001b[38;5;241m.\u001b[39mf_back\n",
      "File \u001b[0;32m~/miniforge3/lib/python3.9/inspect.py:1501\u001b[0m, in \u001b[0;36mgetframeinfo\u001b[0;34m(frame, context)\u001b[0m\n\u001b[1;32m   1498\u001b[0m \u001b[38;5;28;01mif\u001b[39;00m \u001b[38;5;129;01mnot\u001b[39;00m isframe(frame):\n\u001b[1;32m   1499\u001b[0m     \u001b[38;5;28;01mraise\u001b[39;00m \u001b[38;5;167;01mTypeError\u001b[39;00m(\u001b[38;5;124m'\u001b[39m\u001b[38;5;132;01m{!r}\u001b[39;00m\u001b[38;5;124m is not a frame or traceback object\u001b[39m\u001b[38;5;124m'\u001b[39m\u001b[38;5;241m.\u001b[39mformat(frame))\n\u001b[0;32m-> 1501\u001b[0m filename \u001b[38;5;241m=\u001b[39m \u001b[43mgetsourcefile\u001b[49m\u001b[43m(\u001b[49m\u001b[43mframe\u001b[49m\u001b[43m)\u001b[49m \u001b[38;5;129;01mor\u001b[39;00m getfile(frame)\n\u001b[1;32m   1502\u001b[0m \u001b[38;5;28;01mif\u001b[39;00m context \u001b[38;5;241m>\u001b[39m \u001b[38;5;241m0\u001b[39m:\n\u001b[1;32m   1503\u001b[0m     start \u001b[38;5;241m=\u001b[39m lineno \u001b[38;5;241m-\u001b[39m \u001b[38;5;241m1\u001b[39m \u001b[38;5;241m-\u001b[39m context\u001b[38;5;241m/\u001b[39m\u001b[38;5;241m/\u001b[39m\u001b[38;5;241m2\u001b[39m\n",
      "File \u001b[0;32m~/miniforge3/lib/python3.9/inspect.py:709\u001b[0m, in \u001b[0;36mgetsourcefile\u001b[0;34m(object)\u001b[0m\n\u001b[1;32m    707\u001b[0m     \u001b[38;5;28;01mreturn\u001b[39;00m filename\n\u001b[1;32m    708\u001b[0m \u001b[38;5;66;03m# only return a non-existent filename if the module has a PEP 302 loader\u001b[39;00m\n\u001b[0;32m--> 709\u001b[0m \u001b[38;5;28;01mif\u001b[39;00m \u001b[38;5;28mgetattr\u001b[39m(\u001b[43mgetmodule\u001b[49m\u001b[43m(\u001b[49m\u001b[38;5;28;43mobject\u001b[39;49m\u001b[43m,\u001b[49m\u001b[43m \u001b[49m\u001b[43mfilename\u001b[49m\u001b[43m)\u001b[49m, \u001b[38;5;124m'\u001b[39m\u001b[38;5;124m__loader__\u001b[39m\u001b[38;5;124m'\u001b[39m, \u001b[38;5;28;01mNone\u001b[39;00m) \u001b[38;5;129;01mis\u001b[39;00m \u001b[38;5;129;01mnot\u001b[39;00m \u001b[38;5;28;01mNone\u001b[39;00m:\n\u001b[1;32m    710\u001b[0m     \u001b[38;5;28;01mreturn\u001b[39;00m filename\n\u001b[1;32m    711\u001b[0m \u001b[38;5;66;03m# or it is in the linecache\u001b[39;00m\n",
      "File \u001b[0;32m~/miniforge3/lib/python3.9/inspect.py:746\u001b[0m, in \u001b[0;36mgetmodule\u001b[0;34m(object, _filename)\u001b[0m\n\u001b[1;32m    743\u001b[0m \u001b[38;5;66;03m# Update the filename to module name cache and check yet again\u001b[39;00m\n\u001b[1;32m    744\u001b[0m \u001b[38;5;66;03m# Copy sys.modules in order to cope with changes while iterating\u001b[39;00m\n\u001b[1;32m    745\u001b[0m \u001b[38;5;28;01mfor\u001b[39;00m modname, module \u001b[38;5;129;01min\u001b[39;00m sys\u001b[38;5;241m.\u001b[39mmodules\u001b[38;5;241m.\u001b[39mcopy()\u001b[38;5;241m.\u001b[39mitems():\n\u001b[0;32m--> 746\u001b[0m     \u001b[38;5;28;01mif\u001b[39;00m \u001b[43mismodule\u001b[49m\u001b[43m(\u001b[49m\u001b[43mmodule\u001b[49m\u001b[43m)\u001b[49m \u001b[38;5;129;01mand\u001b[39;00m \u001b[38;5;28mhasattr\u001b[39m(module, \u001b[38;5;124m'\u001b[39m\u001b[38;5;124m__file__\u001b[39m\u001b[38;5;124m'\u001b[39m):\n\u001b[1;32m    747\u001b[0m         f \u001b[38;5;241m=\u001b[39m module\u001b[38;5;241m.\u001b[39m\u001b[38;5;18m__file__\u001b[39m\n\u001b[1;32m    748\u001b[0m         \u001b[38;5;28;01mif\u001b[39;00m f \u001b[38;5;241m==\u001b[39m _filesbymodname\u001b[38;5;241m.\u001b[39mget(modname, \u001b[38;5;28;01mNone\u001b[39;00m):\n\u001b[1;32m    749\u001b[0m             \u001b[38;5;66;03m# Have already mapped this module, so skip it\u001b[39;00m\n",
      "File \u001b[0;32m~/miniforge3/lib/python3.9/inspect.py:71\u001b[0m, in \u001b[0;36mismodule\u001b[0;34m(object)\u001b[0m\n\u001b[1;32m     64\u001b[0m \u001b[38;5;28;01mdef\u001b[39;00m \u001b[38;5;21mismodule\u001b[39m(\u001b[38;5;28mobject\u001b[39m):\n\u001b[1;32m     65\u001b[0m     \u001b[38;5;124;03m\"\"\"Return true if the object is a module.\u001b[39;00m\n\u001b[1;32m     66\u001b[0m \n\u001b[1;32m     67\u001b[0m \u001b[38;5;124;03m    Module objects provide these attributes:\u001b[39;00m\n\u001b[1;32m     68\u001b[0m \u001b[38;5;124;03m        __cached__      pathname to byte compiled file\u001b[39;00m\n\u001b[1;32m     69\u001b[0m \u001b[38;5;124;03m        __doc__         documentation string\u001b[39;00m\n\u001b[1;32m     70\u001b[0m \u001b[38;5;124;03m        __file__        filename (missing for built-in modules)\"\"\"\u001b[39;00m\n\u001b[0;32m---> 71\u001b[0m     \u001b[38;5;28;01mreturn\u001b[39;00m \u001b[38;5;28;43misinstance\u001b[39;49m(\u001b[38;5;28mobject\u001b[39m, types\u001b[38;5;241m.\u001b[39mModuleType)\n",
      "\u001b[0;31mKeyboardInterrupt\u001b[0m: "
     ]
    }
   ],
   "source": [
    "# # we take each title and we text-preprocess it.\n",
    "for index, row in cs_journal_data.iterrows():\n",
    "    nlp_preprocessing(cs_journal_data,row['title'], index, 'title')\n",
    "\n"
   ]
  },
  {
   "cell_type": "code",
   "execution_count": null,
   "id": "e80a93b5",
   "metadata": {},
   "outputs": [],
   "source": [
    "cs_journal_data.head()"
   ]
  },
  {
   "cell_type": "code",
   "execution_count": 15,
   "id": "1a6905a1",
   "metadata": {},
   "outputs": [],
   "source": [
    "cs_journal_data = pd.read_csv('CS-journal-resSys-dataset-preprocessed.csv' ,dtype={'id': str})"
   ]
  },
  {
   "cell_type": "code",
   "execution_count": 13,
   "id": "692d7c6f",
   "metadata": {},
   "outputs": [],
   "source": [
    "from nltk.stem import WordNetLemmatizer\n",
    "from nltk.stem.porter import PorterStemmer\n",
    "import string\n",
    "\n",
    "STOPWORDS = set(stopwords.words('english'))\n",
    "lemmatizer = WordNetLemmatizer()\n",
    "stemmer = PorterStemmer()\n",
    "PUNCT_TO_REMOVE = string.punctuation\n",
    "\n",
    "def remove_punctuation(text):\n",
    "    \"\"\"custom function to remove the punctuation\"\"\"\n",
    "    return text.translate(str.maketrans('', '', PUNCT_TO_REMOVE))\n",
    "\n",
    "def remove_stopwords(text):\n",
    "    \"\"\"custom function to remove the stopwords\"\"\"\n",
    "    return \" \".join([word for word in str(text).split() if word not in STOPWORDS])\n",
    "\n",
    "def lemmatize_words(text):\n",
    "    return \" \".join([lemmatizer.lemmatize(word) for word in text.split()])\n",
    "\n",
    "def stem_words(text):\n",
    "    return \" \".join([stemmer.stem(word) for word in text.split()])\n",
    "\n",
    "def textPreprocessing(data, attribute_name):\n",
    "    data[attribute_name] = data[attribute_name].str.lower()\n",
    "    data[attribute_name] = data[attribute_name].apply(lambda text: remove_punctuation(text))\n",
    "    data[attribute_name] = data[attribute_name].apply(lambda text: remove_stopwords(text))\n",
    "    data[attribute_name] = data[attribute_name].apply(lambda text: lemmatize_words(text))\n",
    "    data[attribute_name] = data[attribute_name].apply(lambda text: stem_words(text))\n",
    "    return data[attribute_name]"
   ]
  },
  {
   "cell_type": "code",
   "execution_count": 24,
   "id": "d159aa55",
   "metadata": {},
   "outputs": [],
   "source": [
    "preprocessed_title = textPreprocessing(cs_journal_data, \"title\")\n",
    "preprocessed_abstract = textPreprocessing(cs_journal_data, \"abstract\")"
   ]
  },
  {
   "cell_type": "code",
   "execution_count": 25,
   "id": "2a526200",
   "metadata": {},
   "outputs": [],
   "source": [
    "def bagOfWords_tfidf_model(doc_id, num_results, data, features):\n",
    "    pairwise_dist = pairwise_distances(features, features[doc_id])\n",
    "    indices = np.argsort(pairwise_dist.flatten())[0:num_results]\n",
    "    pdists  = np.sort(pairwise_dist.flatten())[0:num_results]\n",
    "    df_indices = list(data.index[indices])\n",
    "    print(data.index[[0,1]])\n",
    "    print(df_indices, indices)\n",
    "    for i in range(0,len(indices)):\n",
    "        # we will pass 1. doc_id, 2. title1, 3. title2, url, model\n",
    "        print('ID',cs_journal_data['id'].loc[df_indices[i]])\n",
    "        print ('Title:', cs_journal_data['title'].loc[df_indices[i]])\n",
    "        print ('Euclidean similarity with the query image :', pdists[i])\n",
    "        print('='*60)\n",
    "        \n",
    "def bagOfWords_tfidf_model_title_abstract(doc_id, num_results, data, w1, w2, title_features, features_abstract ):\n",
    "    \n",
    "    pairwise_dist_title = pairwise_distances(title_features, \n",
    "                                             title_features[doc_id].reshape(1,-1))\n",
    "    pairwise_dist_abstract = pairwise_distances(features_abstract,\n",
    "                                                features_abstract[doc_id].reshape(1,-1))\n",
    "    pairwise_dist   = (w1 * pairwise_dist_title +  w2 * pairwise_dist_abstract)/float(w1 + w2)\n",
    "    indices = np.argsort(pairwise_dist.flatten())[0:num_results]\n",
    "    pdists  = np.sort(pairwise_dist.flatten())[0:num_results]\n",
    "    df_indices = list(data.index[indices])\n",
    "    for i in range(0,len(indices)):\n",
    "        # we will pass 1. doc_id, 2. title1, 3. title2, url, model\n",
    "        print('ID',cs_journal_data['id'].loc[df_indices[i]])\n",
    "        print ('Title:', cs_journal_data['title'].loc[df_indices[i]])\n",
    "        print ('Euclidean similarity with the query image :', pdists[i])\n",
    "        print('='*60)\n",
    "        "
   ]
  },
  {
   "cell_type": "code",
   "execution_count": 26,
   "id": "ec1b0be9",
   "metadata": {},
   "outputs": [
    {
     "data": {
      "text/plain": [
       "[{'id': 'id',\n",
       "  'title': 'title',\n",
       "  'category': 'category',\n",
       "  'abstract': 'abstract',\n",
       "  'general_category': 'general_category',\n",
       "  'length_of_title': 'length_of_title',\n",
       "  'length_of_abstract': 'length_of_abstract',\n",
       "  'no_of_general_category_per_paper': 'no_of_general_category_per_paper',\n",
       "  'no_of_category_per_paper': 'no_of_category_per_paper',\n",
       "  'astro-ph': 'astro-ph',\n",
       "  'cond-mat': 'cond-mat',\n",
       "  'cs': 'cs',\n",
       "  'econ': 'econ',\n",
       "  'eess': 'eess',\n",
       "  'gr-qc': 'gr-qc',\n",
       "  'hep-ex': 'hep-ex',\n",
       "  'hep-lat': 'hep-lat',\n",
       "  'hep-ph': 'hep-ph',\n",
       "  'hep-th': 'hep-th',\n",
       "  'math': 'math',\n",
       "  'math-ph': 'math-ph',\n",
       "  'nlin': 'nlin',\n",
       "  'nucl-ex': 'nucl-ex',\n",
       "  'nucl-th': 'nucl-th',\n",
       "  'physics': 'physics',\n",
       "  'q-bio': 'q-bio',\n",
       "  'q-fin': 'q-fin',\n",
       "  'quant-ph': 'quant-ph',\n",
       "  'stat': 'stat'}]"
      ]
     },
     "execution_count": 26,
     "metadata": {},
     "output_type": "execute_result"
    }
   ],
   "source": [
    "[dict(zip(cs_journal_data.columns,cs_journal_data.loc[[0,1]]))]"
   ]
  },
  {
   "cell_type": "code",
   "execution_count": 27,
   "id": "511719e4",
   "metadata": {},
   "outputs": [
    {
     "data": {
      "text/plain": [
       "Index(['id', 'title', 'category', 'abstract', 'general_category',\n",
       "       'length_of_title', 'length_of_abstract',\n",
       "       'no_of_general_category_per_paper', 'no_of_category_per_paper',\n",
       "       'astro-ph', 'cond-mat', 'cs', 'econ', 'eess', 'gr-qc', 'hep-ex',\n",
       "       'hep-lat', 'hep-ph', 'hep-th', 'math', 'math-ph', 'nlin', 'nucl-ex',\n",
       "       'nucl-th', 'physics', 'q-bio', 'q-fin', 'quant-ph', 'stat'],\n",
       "      dtype='object')"
      ]
     },
     "execution_count": 27,
     "metadata": {},
     "output_type": "execute_result"
    }
   ],
   "source": [
    "cs_journal_data.columns"
   ]
  },
  {
   "cell_type": "markdown",
   "id": "dcef83c2",
   "metadata": {},
   "source": [
    "## Bag of Words"
   ]
  },
  {
   "cell_type": "code",
   "execution_count": 28,
   "id": "d19566ab",
   "metadata": {},
   "outputs": [
    {
     "data": {
      "text/plain": [
       "(83576, 44116)"
      ]
     },
     "execution_count": 28,
     "metadata": {},
     "output_type": "execute_result"
    }
   ],
   "source": [
    "title_vectorizer = CountVectorizer()\n",
    "title_features   = title_vectorizer.fit_transform(preprocessed_title)\n",
    "title_features.get_shape()"
   ]
  },
  {
   "cell_type": "code",
   "execution_count": 29,
   "id": "78a4af58",
   "metadata": {},
   "outputs": [],
   "source": [
    "pickle.dump(title_features, open(\"title_features_count_vectorizer.pickle\",\"wb\"))"
   ]
  },
  {
   "cell_type": "code",
   "execution_count": 30,
   "id": "7cf565c9",
   "metadata": {},
   "outputs": [],
   "source": [
    "file = 'title_features_count_vectorizer.pickle'\n",
    "with open(file,'rb') as handle:\n",
    "    e = pickle.load(handle)"
   ]
  },
  {
   "cell_type": "code",
   "execution_count": 31,
   "id": "2e1b9de1",
   "metadata": {},
   "outputs": [
    {
     "data": {
      "text/plain": [
       "(83576, 44116)"
      ]
     },
     "execution_count": 31,
     "metadata": {},
     "output_type": "execute_result"
    }
   ],
   "source": [
    "e.get_shape()"
   ]
  },
  {
   "cell_type": "markdown",
   "id": "d7b2f484",
   "metadata": {},
   "source": [
    "### Bag of Words : Recommendation Model based on \"Title\" of the Journals"
   ]
  },
  {
   "cell_type": "code",
   "execution_count": 32,
   "id": "5e8546e8",
   "metadata": {},
   "outputs": [
    {
     "data": {
      "text/plain": [
       "(83576, 169140)"
      ]
     },
     "execution_count": 32,
     "metadata": {},
     "output_type": "execute_result"
    }
   ],
   "source": [
    "abstract_vectorizer = CountVectorizer()\n",
    "abstract_features   = abstract_vectorizer.fit_transform(preprocessed_abstract)\n",
    "abstract_features.get_shape()"
   ]
  },
  {
   "cell_type": "code",
   "execution_count": 33,
   "id": "ddc8e6a8",
   "metadata": {},
   "outputs": [],
   "source": [
    "pickle.dump(abstract_features, open(\"abstract_features_count_vectorizer.pickle\",\"wb\"))"
   ]
  },
  {
   "cell_type": "raw",
   "id": "d997b918",
   "metadata": {},
   "source": [
    "bagOfWords_tfidf_model(12566, 5, cs_journal_data, title_features)"
   ]
  },
  {
   "cell_type": "code",
   "execution_count": 34,
   "id": "1b97c1ae",
   "metadata": {},
   "outputs": [],
   "source": [
    "from sklearn.metrics.pairwise import cosine_similarity  \n",
    "from sklearn.metrics import pairwise_distances\n",
    "import re\n",
    "from collections import Counter\n",
    "from matplotlib import gridspec"
   ]
  },
  {
   "cell_type": "markdown",
   "id": "5200b812",
   "metadata": {},
   "source": [
    "### Bag of Words : Recommendation Model based on \"Abstract\" of the Journals"
   ]
  },
  {
   "cell_type": "code",
   "execution_count": 35,
   "id": "08cb20ff",
   "metadata": {},
   "outputs": [
    {
     "name": "stdout",
     "output_type": "stream",
     "text": [
      "Int64Index([0, 1], dtype='int64')\n",
      "[49928, 64008, 7606, 41991, 77931] [49928 64008  7606 41991 77931]\n",
      "ID 2111.06967\n",
      "Title: complex sat\n",
      "Euclidean similarity with the query image : 0.0\n",
      "============================================================\n",
      "ID 2203.04142\n",
      "Title: repli salum algorithm x3sat\n",
      "Euclidean similarity with the query image : 3.605551275463989\n",
      "============================================================\n",
      "ID 2012.06304\n",
      "Title: complex x3sat p np pspace\n",
      "Euclidean similarity with the query image : 4.123105625617661\n",
      "============================================================\n",
      "ID 2109.07843\n",
      "Title: label assign distil object detect\n",
      "Euclidean similarity with the query image : 4.358898943540674\n",
      "============================================================\n",
      "ID 2206.05353\n",
      "Title: hamiltonian quasigeodes yield net\n",
      "Euclidean similarity with the query image : 4.358898943540674\n",
      "============================================================\n"
     ]
    }
   ],
   "source": [
    "bagOfWords_tfidf_model(49928, 5, cs_journal_data, abstract_features)"
   ]
  },
  {
   "cell_type": "markdown",
   "id": "814d3784",
   "metadata": {},
   "source": [
    "### Bag of Words : Recommendation Model based on both \"Title\" and \"Abstract\" of the Journals"
   ]
  },
  {
   "cell_type": "code",
   "execution_count": 36,
   "id": "53cf3155",
   "metadata": {},
   "outputs": [
    {
     "name": "stdout",
     "output_type": "stream",
     "text": [
      "ID 2102.05447\n",
      "Title: search align face recognit\n",
      "Euclidean similarity with the query image : 0.0\n",
      "============================================================\n",
      "ID 2108.11821\n",
      "Title: state art face recognit\n",
      "Euclidean similarity with the query image : 8.54983443527075\n",
      "============================================================\n",
      "ID 2204.02608\n",
      "Title: face recognit transform domain\n",
      "Euclidean similarity with the query image : 8.615773105863909\n",
      "============================================================\n",
      "ID 2204.08978\n",
      "Title: realtim face recognit system\n",
      "Euclidean similarity with the query image : 8.762087348130013\n",
      "============================================================\n",
      "ID 2204.01081\n",
      "Title: face ai blitz xiii solut\n",
      "Euclidean similarity with the query image : 8.822875655532295\n",
      "============================================================\n"
     ]
    }
   ],
   "source": [
    "bagOfWords_tfidf_model_title_abstract(12566, 5, cs_journal_data, 5, 5, title_features, abstract_features)\n"
   ]
  },
  {
   "cell_type": "markdown",
   "id": "6619f8ac",
   "metadata": {},
   "source": [
    "# TF-IDF - Model"
   ]
  },
  {
   "cell_type": "markdown",
   "id": "4889e03c",
   "metadata": {},
   "source": [
    "### TF-IDF : Recommendation Model based on \"Title\" of the Journals"
   ]
  },
  {
   "cell_type": "code",
   "execution_count": 37,
   "id": "ae53136d",
   "metadata": {},
   "outputs": [],
   "source": [
    "tfidf_title_vectorizer = TfidfVectorizer(min_df = 0)\n",
    "tfidf_title_features = tfidf_title_vectorizer.fit_transform(preprocessed_title)"
   ]
  },
  {
   "cell_type": "code",
   "execution_count": 38,
   "id": "9dd64a47",
   "metadata": {},
   "outputs": [],
   "source": [
    "pickle.dump(tfidf_title_features, open(\"tfidf_title_features.pickle\",\"wb\"))"
   ]
  },
  {
   "cell_type": "code",
   "execution_count": 39,
   "id": "98d28944",
   "metadata": {},
   "outputs": [],
   "source": [
    "pickle.dump(tfidf_title_vectorizer.vocabulary_, open(\"tfidf_title_vectorizer_vocabulary_.pickle\",\"wb\"))"
   ]
  },
  {
   "cell_type": "code",
   "execution_count": 40,
   "id": "75fb432e",
   "metadata": {},
   "outputs": [
    {
     "name": "stdout",
     "output_type": "stream",
     "text": [
      "Int64Index([0, 1], dtype='int64')\n",
      "[12566, 18594, 24273, 82398, 15069] [12566 18594 24273 82398 15069]\n",
      "ID 2102.05447\n",
      "Title: search align face recognit\n",
      "Euclidean similarity with the query image : 0.0\n",
      "============================================================\n",
      "ID 2103.14803\n",
      "Title: face transform recognit\n",
      "Euclidean similarity with the query image : 0.916541679558997\n",
      "============================================================\n",
      "ID 2105.02501\n",
      "Title: feder face recognit\n",
      "Euclidean similarity with the query image : 0.9416205407764018\n",
      "============================================================\n",
      "ID 2207.06478\n",
      "Title: analysi face detect face landmark face recognit perform mask face imag\n",
      "Euclidean similarity with the query image : 0.9797615757181469\n",
      "============================================================\n",
      "ID 2103.01559\n",
      "Title: interclass discrep align face recognit\n",
      "Euclidean similarity with the query image : 0.9937715730622846\n",
      "============================================================\n"
     ]
    }
   ],
   "source": [
    "bagOfWords_tfidf_model(12566, 5, cs_journal_data, tfidf_title_features)\n"
   ]
  },
  {
   "cell_type": "markdown",
   "id": "b510615b",
   "metadata": {},
   "source": [
    "### TF-IDF : Recommendation Model based on \"Abstract\" of the Journals"
   ]
  },
  {
   "cell_type": "code",
   "execution_count": 41,
   "id": "ee4caafb",
   "metadata": {},
   "outputs": [],
   "source": [
    "tfidf_vectorizer_abstract = TfidfVectorizer(min_df = 0)\n",
    "tfidf_features_abstract = tfidf_vectorizer_abstract.fit_transform(preprocessed_abstract)"
   ]
  },
  {
   "cell_type": "code",
   "execution_count": 42,
   "id": "f7c9d608",
   "metadata": {},
   "outputs": [],
   "source": [
    "pickle.dump(tfidf_features_abstract, open(\"tfidf_features_abstract_1.pickle\",\"wb\"))"
   ]
  },
  {
   "cell_type": "code",
   "execution_count": 43,
   "id": "320caa71",
   "metadata": {},
   "outputs": [
    {
     "name": "stdout",
     "output_type": "stream",
     "text": [
      "Int64Index([0, 1], dtype='int64')\n",
      "[12566, 82398, 4910, 15450, 83213] [12566 82398  4910 15450 83213]\n",
      "ID 2102.05447\n",
      "Title: search align face recognit\n",
      "Euclidean similarity with the query image : 0.0\n",
      "============================================================\n",
      "ID 2207.06478\n",
      "Title: analysi face detect face landmark face recognit perform mask face imag\n",
      "Euclidean similarity with the query image : 0.9920174450551629\n",
      "============================================================\n",
      "ID 2009.13290\n",
      "Title: element endtoend deep face recognit survey recent advanc\n",
      "Euclidean similarity with the query image : 1.03635660874894\n",
      "============================================================\n",
      "ID 2103.03059\n",
      "Title: subpixel face landmark use heatmap bag trick\n",
      "Euclidean similarity with the query image : 1.0644793236289416\n",
      "============================================================\n",
      "ID 2207.09505\n",
      "Title: effici method face qualiti assess edg\n",
      "Euclidean similarity with the query image : 1.0729244443064117\n",
      "============================================================\n"
     ]
    }
   ],
   "source": [
    "bagOfWords_tfidf_model(12566, 5, cs_journal_data, tfidf_features_abstract)\n"
   ]
  },
  {
   "cell_type": "markdown",
   "id": "9d31dd53",
   "metadata": {},
   "source": [
    "### TF-IDF : Recommendation Model based on both \"Title\" and \"Abstract\" of the Journals"
   ]
  },
  {
   "cell_type": "code",
   "execution_count": 44,
   "id": "892438bc",
   "metadata": {},
   "outputs": [
    {
     "name": "stdout",
     "output_type": "stream",
     "text": [
      "ID 2102.05447\n",
      "Title: search align face recognit\n",
      "Euclidean similarity with the query image : 0.0\n",
      "============================================================\n",
      "ID 2207.06478\n",
      "Title: analysi face detect face landmark face recognit perform mask face imag\n",
      "Euclidean similarity with the query image : 0.985889510386655\n",
      "============================================================\n",
      "ID 2201.02991\n",
      "Title: survey face recognit system\n",
      "Euclidean similarity with the query image : 1.0688764365508665\n",
      "============================================================\n",
      "ID 2103.07615\n",
      "Title: effici multitask neural network face align head pose estim face track\n",
      "Euclidean similarity with the query image : 1.0773645185417773\n",
      "============================================================\n",
      "ID 2108.11082\n",
      "Title: 3d face recognit survey\n",
      "Euclidean similarity with the query image : 1.0873684931363379\n",
      "============================================================\n"
     ]
    }
   ],
   "source": [
    "bagOfWords_tfidf_model_title_abstract(12566, 5, cs_journal_data, 5, 5, tfidf_title_features, tfidf_features_abstract)\n"
   ]
  },
  {
   "cell_type": "code",
   "execution_count": null,
   "id": "21d7a6f2",
   "metadata": {},
   "outputs": [],
   "source": []
  },
  {
   "cell_type": "markdown",
   "id": "ea75ca24",
   "metadata": {},
   "source": [
    "# Word2Vec"
   ]
  },
  {
   "cell_type": "markdown",
   "id": "13863169",
   "metadata": {},
   "source": [
    "# Word2Vec Similarity based on Journals \"Title\" and its \"Abstract\""
   ]
  },
  {
   "cell_type": "code",
   "execution_count": 45,
   "id": "c6316f6c",
   "metadata": {},
   "outputs": [],
   "source": [
    "def idf_weighted(preprocessed_data, idf_vectorizer, idf_features,num_features,model):\n",
    "    featureVec = np.zeros((num_features,), dtype=\"float32\")\n",
    "    nwords = 0\n",
    "    doc_id = 0\n",
    "    vocab = model.keys()\n",
    "    dataVector = list()\n",
    "    for sentence in preprocessed_data:\n",
    "        for word in sentence.split():\n",
    "            nwords += 1\n",
    "            if (word in vocab) and (word in idf_vectorizer.vocabulary_):\n",
    "                featureVec = np.add(featureVec, \n",
    "                                    idf_features[doc_id,idf_vectorizer.vocabulary_[word]] * model[word])                \n",
    "        if(nwords>0):\n",
    "            featureVec = np.divide(featureVec, nwords)\n",
    "        dataVector.append(featureVec)\n",
    "        doc_id +=1\n",
    "    return dataVector\n",
    "\n",
    "def weighted_w2v_model(num_results, dataVector,data,doc_id, model):\n",
    "    pairwise_dist = pairwise_distances(dataVector, dataVector[doc_id].reshape(1,-1))\n",
    "    print(pairwise_dist)\n",
    "    indices = np.argsort(pairwise_dist.flatten())[0:num_results]\n",
    "    print(indices)\n",
    "    pdists  = np.sort(pairwise_dist.flatten())[0:num_results]\n",
    "    df_indices = list(data.index[indices])\n",
    "    vocab = model.keys()\n",
    "    for i in range(0, len(indices)):  \n",
    "        print('ID :',data['title'].loc[df_indices[i]])\n",
    "        print ('euclidean distance from given input image :', pdists[i])\n",
    "        print('='*125)        \n"
   ]
  },
  {
   "cell_type": "markdown",
   "id": "80879208",
   "metadata": {},
   "source": [
    "### Load Pre-Trained Word2Vec Model"
   ]
  },
  {
   "cell_type": "code",
   "execution_count": 46,
   "id": "09a41555",
   "metadata": {},
   "outputs": [],
   "source": [
    "file = 'word2vec_model'\n",
    "with open(file,'rb') as handle:\n",
    "    model = pickle.load(handle)"
   ]
  },
  {
   "cell_type": "markdown",
   "id": "17a44444",
   "metadata": {},
   "source": [
    "### IDF-Weighted : Recommendation Model based on \"Title\" of the Journals"
   ]
  },
  {
   "cell_type": "code",
   "execution_count": 47,
   "id": "67bbae0a",
   "metadata": {},
   "outputs": [],
   "source": [
    "#Word2Vec for Title - IDF Weighted\n",
    "idf_vectorizer = CountVectorizer()\n",
    "idf_features = idf_vectorizer.fit_transform(cs_journal_data['title'])\n",
    "title_weighted_vector = idf_weighted(cs_journal_data['title'], idf_vectorizer, idf_features,300, model)"
   ]
  },
  {
   "cell_type": "code",
   "execution_count": 48,
   "id": "dc8f4f40",
   "metadata": {},
   "outputs": [],
   "source": [
    "pickle.dump(title_weighted_vector, open(\"title_weighted_vector.pickle\",\"wb\"))"
   ]
  },
  {
   "cell_type": "code",
   "execution_count": 49,
   "id": "21e62487",
   "metadata": {},
   "outputs": [],
   "source": [
    "with open('title_weighted_vector.pickle','rb') as handle:\n",
    "    wv = pickle.load(handle)"
   ]
  },
  {
   "cell_type": "code",
   "execution_count": 50,
   "id": "5873c99b",
   "metadata": {},
   "outputs": [
    {
     "name": "stdout",
     "output_type": "stream",
     "text": [
      "[[0.78932508]\n",
      " [0.37352334]\n",
      " [0.41585838]\n",
      " ...\n",
      " [0.05771993]\n",
      " [0.0577187 ]\n",
      " [0.05772011]]\n",
      "[  8  56  17  22 149]\n",
      "ID : model network spatial object simul geograph phenomenon propag\n",
      "euclidean distance from given input image : 0.0\n",
      "=============================================================================================================================\n",
      "ID : network critic analysi finit size wireless sensor network\n",
      "euclidean distance from given input image : 0.038344618832446234\n",
      "=============================================================================================================================\n",
      "ID : compress wildcard model boolean 2cnf\n",
      "euclidean distance from given input image : 0.044732037277903314\n",
      "=============================================================================================================================\n",
      "ID : learn bayesian network unif discret gaussian domain\n",
      "euclidean distance from given input image : 0.048055807772280947\n",
      "=============================================================================================================================\n",
      "ID : analysi network robust finit size wireless sensor network\n",
      "euclidean distance from given input image : 0.048616740433703585\n",
      "=============================================================================================================================\n"
     ]
    }
   ],
   "source": [
    "weighted_w2v_model(5, title_weighted_vector, cs_journal_data,8, model)"
   ]
  },
  {
   "cell_type": "code",
   "execution_count": 51,
   "id": "23e6a9dc",
   "metadata": {},
   "outputs": [
    {
     "data": {
      "text/html": [
       "<div>\n",
       "<style scoped>\n",
       "    .dataframe tbody tr th:only-of-type {\n",
       "        vertical-align: middle;\n",
       "    }\n",
       "\n",
       "    .dataframe tbody tr th {\n",
       "        vertical-align: top;\n",
       "    }\n",
       "\n",
       "    .dataframe thead th {\n",
       "        text-align: right;\n",
       "    }\n",
       "</style>\n",
       "<table border=\"1\" class=\"dataframe\">\n",
       "  <thead>\n",
       "    <tr style=\"text-align: right;\">\n",
       "      <th></th>\n",
       "      <th>id</th>\n",
       "      <th>title</th>\n",
       "      <th>category</th>\n",
       "      <th>abstract</th>\n",
       "      <th>general_category</th>\n",
       "      <th>length_of_title</th>\n",
       "      <th>length_of_abstract</th>\n",
       "      <th>no_of_general_category_per_paper</th>\n",
       "      <th>no_of_category_per_paper</th>\n",
       "      <th>astro-ph</th>\n",
       "      <th>...</th>\n",
       "      <th>math</th>\n",
       "      <th>math-ph</th>\n",
       "      <th>nlin</th>\n",
       "      <th>nucl-ex</th>\n",
       "      <th>nucl-th</th>\n",
       "      <th>physics</th>\n",
       "      <th>q-bio</th>\n",
       "      <th>q-fin</th>\n",
       "      <th>quant-ph</th>\n",
       "      <th>stat</th>\n",
       "    </tr>\n",
       "  </thead>\n",
       "  <tbody>\n",
       "    <tr>\n",
       "      <th>71083</th>\n",
       "      <td>2204.11827</td>\n",
       "      <td>taskinduc represent learn</td>\n",
       "      <td>AI,LG,RO</td>\n",
       "      <td>work evalu effect represent learn approach dec...</td>\n",
       "      <td>cs</td>\n",
       "      <td>3</td>\n",
       "      <td>187</td>\n",
       "      <td>1</td>\n",
       "      <td>3</td>\n",
       "      <td>0</td>\n",
       "      <td>...</td>\n",
       "      <td>0</td>\n",
       "      <td>0</td>\n",
       "      <td>0</td>\n",
       "      <td>0</td>\n",
       "      <td>0</td>\n",
       "      <td>0</td>\n",
       "      <td>0</td>\n",
       "      <td>0</td>\n",
       "      <td>0</td>\n",
       "      <td>0</td>\n",
       "    </tr>\n",
       "    <tr>\n",
       "      <th>33102</th>\n",
       "      <td>2107.03367</td>\n",
       "      <td>build stabl offchain payment network</td>\n",
       "      <td>DC,GT</td>\n",
       "      <td>payment channel protocol allow cryptocurr user...</td>\n",
       "      <td>cs</td>\n",
       "      <td>5</td>\n",
       "      <td>171</td>\n",
       "      <td>1</td>\n",
       "      <td>2</td>\n",
       "      <td>0</td>\n",
       "      <td>...</td>\n",
       "      <td>0</td>\n",
       "      <td>0</td>\n",
       "      <td>0</td>\n",
       "      <td>0</td>\n",
       "      <td>0</td>\n",
       "      <td>0</td>\n",
       "      <td>0</td>\n",
       "      <td>0</td>\n",
       "      <td>0</td>\n",
       "      <td>0</td>\n",
       "    </tr>\n",
       "    <tr>\n",
       "      <th>59881</th>\n",
       "      <td>2202.02481</td>\n",
       "      <td>lotrec recommend urban vacant lot convers</td>\n",
       "      <td>LG,CY</td>\n",
       "      <td>vacant lot neglect properti citi lead environm...</td>\n",
       "      <td>cs</td>\n",
       "      <td>8</td>\n",
       "      <td>183</td>\n",
       "      <td>1</td>\n",
       "      <td>2</td>\n",
       "      <td>0</td>\n",
       "      <td>...</td>\n",
       "      <td>0</td>\n",
       "      <td>0</td>\n",
       "      <td>0</td>\n",
       "      <td>0</td>\n",
       "      <td>0</td>\n",
       "      <td>0</td>\n",
       "      <td>0</td>\n",
       "      <td>0</td>\n",
       "      <td>0</td>\n",
       "      <td>0</td>\n",
       "    </tr>\n",
       "    <tr>\n",
       "      <th>15697</th>\n",
       "      <td>2103.03991</td>\n",
       "      <td>pass narrow gap deep reinforc learn</td>\n",
       "      <td>AI,RO</td>\n",
       "      <td>u defens advanc research project agenc darpa s...</td>\n",
       "      <td>cs</td>\n",
       "      <td>8</td>\n",
       "      <td>232</td>\n",
       "      <td>1</td>\n",
       "      <td>2</td>\n",
       "      <td>0</td>\n",
       "      <td>...</td>\n",
       "      <td>0</td>\n",
       "      <td>0</td>\n",
       "      <td>0</td>\n",
       "      <td>0</td>\n",
       "      <td>0</td>\n",
       "      <td>0</td>\n",
       "      <td>0</td>\n",
       "      <td>0</td>\n",
       "      <td>0</td>\n",
       "      <td>0</td>\n",
       "    </tr>\n",
       "    <tr>\n",
       "      <th>60975</th>\n",
       "      <td>2202.06839</td>\n",
       "      <td>closeup whisper understand multimod parasoci i...</td>\n",
       "      <td>HC</td>\n",
       "      <td>asmr autonom sensori meridian respons grown im...</td>\n",
       "      <td>cs</td>\n",
       "      <td>14</td>\n",
       "      <td>150</td>\n",
       "      <td>1</td>\n",
       "      <td>1</td>\n",
       "      <td>0</td>\n",
       "      <td>...</td>\n",
       "      <td>0</td>\n",
       "      <td>0</td>\n",
       "      <td>0</td>\n",
       "      <td>0</td>\n",
       "      <td>0</td>\n",
       "      <td>0</td>\n",
       "      <td>0</td>\n",
       "      <td>0</td>\n",
       "      <td>0</td>\n",
       "      <td>0</td>\n",
       "    </tr>\n",
       "    <tr>\n",
       "      <th>30612</th>\n",
       "      <td>2106.10220</td>\n",
       "      <td>semant navig domain knowledg</td>\n",
       "      <td>RO</td>\n",
       "      <td>sever deploy locat mobil robot system human ma...</td>\n",
       "      <td>cs</td>\n",
       "      <td>5</td>\n",
       "      <td>147</td>\n",
       "      <td>1</td>\n",
       "      <td>1</td>\n",
       "      <td>0</td>\n",
       "      <td>...</td>\n",
       "      <td>0</td>\n",
       "      <td>0</td>\n",
       "      <td>0</td>\n",
       "      <td>0</td>\n",
       "      <td>0</td>\n",
       "      <td>0</td>\n",
       "      <td>0</td>\n",
       "      <td>0</td>\n",
       "      <td>0</td>\n",
       "      <td>0</td>\n",
       "    </tr>\n",
       "    <tr>\n",
       "      <th>4401</th>\n",
       "      <td>2008.12804</td>\n",
       "      <td>rethink object extract question answer</td>\n",
       "      <td>AI,LG,CL</td>\n",
       "      <td>work demonstr use object independ assumpt mode...</td>\n",
       "      <td>cs</td>\n",
       "      <td>7</td>\n",
       "      <td>140</td>\n",
       "      <td>1</td>\n",
       "      <td>3</td>\n",
       "      <td>0</td>\n",
       "      <td>...</td>\n",
       "      <td>0</td>\n",
       "      <td>0</td>\n",
       "      <td>0</td>\n",
       "      <td>0</td>\n",
       "      <td>0</td>\n",
       "      <td>0</td>\n",
       "      <td>0</td>\n",
       "      <td>0</td>\n",
       "      <td>0</td>\n",
       "      <td>0</td>\n",
       "    </tr>\n",
       "    <tr>\n",
       "      <th>77172</th>\n",
       "      <td>2206.02539</td>\n",
       "      <td>robust evalu adversari train instanc segment m...</td>\n",
       "      <td>LG,CV</td>\n",
       "      <td>evalu robust nonclassifi model propos probabil...</td>\n",
       "      <td>cs</td>\n",
       "      <td>10</td>\n",
       "      <td>160</td>\n",
       "      <td>1</td>\n",
       "      <td>2</td>\n",
       "      <td>0</td>\n",
       "      <td>...</td>\n",
       "      <td>0</td>\n",
       "      <td>0</td>\n",
       "      <td>0</td>\n",
       "      <td>0</td>\n",
       "      <td>0</td>\n",
       "      <td>0</td>\n",
       "      <td>0</td>\n",
       "      <td>0</td>\n",
       "      <td>0</td>\n",
       "      <td>0</td>\n",
       "    </tr>\n",
       "    <tr>\n",
       "      <th>66208</th>\n",
       "      <td>2203.12178</td>\n",
       "      <td>unifi motion deblur frame interpol event</td>\n",
       "      <td>CV</td>\n",
       "      <td>slow shutter speed long exposur time framebas ...</td>\n",
       "      <td>cs</td>\n",
       "      <td>8</td>\n",
       "      <td>159</td>\n",
       "      <td>1</td>\n",
       "      <td>1</td>\n",
       "      <td>0</td>\n",
       "      <td>...</td>\n",
       "      <td>0</td>\n",
       "      <td>0</td>\n",
       "      <td>0</td>\n",
       "      <td>0</td>\n",
       "      <td>0</td>\n",
       "      <td>0</td>\n",
       "      <td>0</td>\n",
       "      <td>0</td>\n",
       "      <td>0</td>\n",
       "      <td>0</td>\n",
       "    </tr>\n",
       "    <tr>\n",
       "      <th>19707</th>\n",
       "      <td>2104.01303</td>\n",
       "      <td>tight compress compress cnn finegrain prune we...</td>\n",
       "      <td>LG</td>\n",
       "      <td>unstructur sparsiti prune pose challeng effici...</td>\n",
       "      <td>cs</td>\n",
       "      <td>13</td>\n",
       "      <td>174</td>\n",
       "      <td>1</td>\n",
       "      <td>1</td>\n",
       "      <td>0</td>\n",
       "      <td>...</td>\n",
       "      <td>0</td>\n",
       "      <td>0</td>\n",
       "      <td>0</td>\n",
       "      <td>0</td>\n",
       "      <td>0</td>\n",
       "      <td>0</td>\n",
       "      <td>0</td>\n",
       "      <td>0</td>\n",
       "      <td>0</td>\n",
       "      <td>0</td>\n",
       "    </tr>\n",
       "  </tbody>\n",
       "</table>\n",
       "<p>10 rows × 29 columns</p>\n",
       "</div>"
      ],
      "text/plain": [
       "               id                                              title  \\\n",
       "71083  2204.11827                          taskinduc represent learn   \n",
       "33102  2107.03367               build stabl offchain payment network   \n",
       "59881  2202.02481          lotrec recommend urban vacant lot convers   \n",
       "15697  2103.03991                pass narrow gap deep reinforc learn   \n",
       "60975  2202.06839  closeup whisper understand multimod parasoci i...   \n",
       "30612  2106.10220                       semant navig domain knowledg   \n",
       "4401   2008.12804             rethink object extract question answer   \n",
       "77172  2206.02539  robust evalu adversari train instanc segment m...   \n",
       "66208  2203.12178           unifi motion deblur frame interpol event   \n",
       "19707  2104.01303  tight compress compress cnn finegrain prune we...   \n",
       "\n",
       "       category                                           abstract  \\\n",
       "71083  AI,LG,RO  work evalu effect represent learn approach dec...   \n",
       "33102     DC,GT  payment channel protocol allow cryptocurr user...   \n",
       "59881     LG,CY  vacant lot neglect properti citi lead environm...   \n",
       "15697     AI,RO  u defens advanc research project agenc darpa s...   \n",
       "60975        HC  asmr autonom sensori meridian respons grown im...   \n",
       "30612        RO  sever deploy locat mobil robot system human ma...   \n",
       "4401   AI,LG,CL  work demonstr use object independ assumpt mode...   \n",
       "77172     LG,CV  evalu robust nonclassifi model propos probabil...   \n",
       "66208        CV  slow shutter speed long exposur time framebas ...   \n",
       "19707        LG  unstructur sparsiti prune pose challeng effici...   \n",
       "\n",
       "      general_category  length_of_title  length_of_abstract  \\\n",
       "71083               cs                3                 187   \n",
       "33102               cs                5                 171   \n",
       "59881               cs                8                 183   \n",
       "15697               cs                8                 232   \n",
       "60975               cs               14                 150   \n",
       "30612               cs                5                 147   \n",
       "4401                cs                7                 140   \n",
       "77172               cs               10                 160   \n",
       "66208               cs                8                 159   \n",
       "19707               cs               13                 174   \n",
       "\n",
       "       no_of_general_category_per_paper  no_of_category_per_paper  astro-ph  \\\n",
       "71083                                 1                         3         0   \n",
       "33102                                 1                         2         0   \n",
       "59881                                 1                         2         0   \n",
       "15697                                 1                         2         0   \n",
       "60975                                 1                         1         0   \n",
       "30612                                 1                         1         0   \n",
       "4401                                  1                         3         0   \n",
       "77172                                 1                         2         0   \n",
       "66208                                 1                         1         0   \n",
       "19707                                 1                         1         0   \n",
       "\n",
       "       ...  math  math-ph  nlin  nucl-ex  nucl-th  physics  q-bio  q-fin  \\\n",
       "71083  ...     0        0     0        0        0        0      0      0   \n",
       "33102  ...     0        0     0        0        0        0      0      0   \n",
       "59881  ...     0        0     0        0        0        0      0      0   \n",
       "15697  ...     0        0     0        0        0        0      0      0   \n",
       "60975  ...     0        0     0        0        0        0      0      0   \n",
       "30612  ...     0        0     0        0        0        0      0      0   \n",
       "4401   ...     0        0     0        0        0        0      0      0   \n",
       "77172  ...     0        0     0        0        0        0      0      0   \n",
       "66208  ...     0        0     0        0        0        0      0      0   \n",
       "19707  ...     0        0     0        0        0        0      0      0   \n",
       "\n",
       "       quant-ph  stat  \n",
       "71083         0     0  \n",
       "33102         0     0  \n",
       "59881         0     0  \n",
       "15697         0     0  \n",
       "60975         0     0  \n",
       "30612         0     0  \n",
       "4401          0     0  \n",
       "77172         0     0  \n",
       "66208         0     0  \n",
       "19707         0     0  \n",
       "\n",
       "[10 rows x 29 columns]"
      ]
     },
     "execution_count": 51,
     "metadata": {},
     "output_type": "execute_result"
    }
   ],
   "source": [
    "cs_journal_data.sample(10)"
   ]
  },
  {
   "cell_type": "markdown",
   "id": "61a6b7f6",
   "metadata": {},
   "source": [
    "### IDF-Weighted : Recommendation Model based on \"Abstract\" of the Journals"
   ]
  },
  {
   "cell_type": "code",
   "execution_count": 52,
   "id": "a6474696",
   "metadata": {},
   "outputs": [],
   "source": [
    "#Word2Vec for Abstract - IDF Weighted\n",
    "idf_vectorizer_abstract = CountVectorizer()\n",
    "idf_features_abstract = idf_vectorizer_abstract.fit_transform(cs_journal_data['abstract'])\n",
    "\n",
    "abstract_weighted_vector = idf_weighted(cs_journal_data['abstract'], \n",
    "                                        idf_vectorizer_abstract,\n",
    "                                        idf_features_abstract,300, model)"
   ]
  },
  {
   "cell_type": "code",
   "execution_count": 53,
   "id": "d02845e6",
   "metadata": {},
   "outputs": [],
   "source": [
    "pickle.dump(abstract_weighted_vector, open(\"abstract_weighted_vector.pickle\",\"wb\"))"
   ]
  },
  {
   "cell_type": "code",
   "execution_count": 54,
   "id": "d97262e2",
   "metadata": {},
   "outputs": [
    {
     "name": "stdout",
     "output_type": "stream",
     "text": [
      "[[2.21798578]\n",
      " [0.67651624]\n",
      " [0.42526421]\n",
      " ...\n",
      " [0.17425304]\n",
      " [0.17425445]\n",
      " [0.17425154]]\n",
      "[  8  56  36  13 116]\n",
      "ID : model network spatial object simul geograph phenomenon propag\n",
      "euclidean distance from given input image : 0.0\n",
      "=============================================================================================================================\n",
      "ID : network critic analysi finit size wireless sensor network\n",
      "euclidean distance from given input image : 0.11390622602825626\n",
      "=============================================================================================================================\n",
      "ID : challeng issu 4g network mobil manag\n",
      "euclidean distance from given input image : 0.14986718902827986\n",
      "=============================================================================================================================\n",
      "ID : discov new techniqu map relat databas base semant web technolog\n",
      "euclidean distance from given input image : 0.15213709470631878\n",
      "=============================================================================================================================\n",
      "ID : composit cooper coordin comput system\n",
      "euclidean distance from given input image : 0.15436345555076883\n",
      "=============================================================================================================================\n"
     ]
    }
   ],
   "source": [
    "weighted_w2v_model(5, abstract_weighted_vector, cs_journal_data,8, model)"
   ]
  },
  {
   "cell_type": "markdown",
   "id": "11667d03",
   "metadata": {},
   "source": [
    "### IDF-Weighted : Recommendation Model based on both \"Title\" and \"Abstract\" of the Journals\n",
    "* Here we find the separate Pairwise Distance for Title and Abstract.\n",
    "* Get the Final Pairwise Distance where the dimenstion of the final distances will be same.\n",
    "* We've applied custom formula :\n",
    "* Final Pairwise Distance = (w1 * Pairwise Distance Title + w2 * Pairwise Distance Abstract)/(w1 + w2)"
   ]
  },
  {
   "cell_type": "code",
   "execution_count": 55,
   "id": "0f242e0d",
   "metadata": {},
   "outputs": [],
   "source": [
    "title_abstract_weight_vector = hstack((idf_features, idf_features_abstract)).tocsr()"
   ]
  },
  {
   "cell_type": "code",
   "execution_count": 56,
   "id": "a1091edf",
   "metadata": {},
   "outputs": [
    {
     "data": {
      "text/plain": [
       "(83576, 213256)"
      ]
     },
     "execution_count": 56,
     "metadata": {},
     "output_type": "execute_result"
    }
   ],
   "source": [
    "title_abstract_weight_vector.shape"
   ]
  },
  {
   "cell_type": "code",
   "execution_count": 57,
   "id": "5afa2a1a",
   "metadata": {},
   "outputs": [],
   "source": [
    "def title_abstract_weighted_w2v_model(num_results, title_weighted_vector, \n",
    "                                      abstract_weighted_vector, w1, w2,\n",
    "                                      data, doc_id, model):\n",
    "    \n",
    "    pairwise_dist_title = pairwise_distances(title_weighted_vector, \n",
    "                                             title_weighted_vector[doc_id].reshape(1,-1))\n",
    "    pairwise_dist_abstract = pairwise_distances(abstract_weighted_vector,\n",
    "                                                abstract_weighted_vector[doc_id].reshape(1,-1))\n",
    "    pairwise_dist   = (w1 * pairwise_dist_title +  w2 * pairwise_dist_abstract)/float(w1 + w2)\n",
    "    \n",
    "    indices = np.argsort(pairwise_dist.flatten())[0:num_results]\n",
    "    pdists  = np.sort(pairwise_dist.flatten())[0:num_results]\n",
    "    df_indices = list(data.index[indices])\n",
    "    vocab = model.keys()\n",
    "    for i in range(0, len(indices)):  \n",
    "        print('ID :',data['title'].loc[df_indices[i]])\n",
    "        print ('euclidean distance from given input image :', pdists[i])\n",
    "        print('='*125)        \n"
   ]
  },
  {
   "cell_type": "code",
   "execution_count": 58,
   "id": "0f14b102",
   "metadata": {
    "scrolled": true
   },
   "outputs": [
    {
     "name": "stdout",
     "output_type": "stream",
     "text": [
      "ID : model network spatial object simul geograph phenomenon propag\n",
      "euclidean distance from given input image : 0.0\n",
      "=============================================================================================================================\n",
      "ID : network critic analysi finit size wireless sensor network\n",
      "euclidean distance from given input image : 0.07612542243035125\n",
      "=============================================================================================================================\n",
      "ID : challeng issu 4g network mobil manag\n",
      "euclidean distance from given input image : 0.10003186802140382\n",
      "=============================================================================================================================\n",
      "ID : analysi network robust finit size wireless sensor network\n",
      "euclidean distance from given input image : 0.10289310819735387\n",
      "=============================================================================================================================\n",
      "ID : composit cooper coordin comput system\n",
      "euclidean distance from given input image : 0.10531797599978683\n",
      "=============================================================================================================================\n"
     ]
    }
   ],
   "source": [
    "title_abstract_weighted_w2v_model(5, title_weighted_vector,\n",
    "                                  abstract_weighted_vector,\n",
    "                                  5, 5, cs_journal_data,8, model)"
   ]
  },
  {
   "cell_type": "code",
   "execution_count": 65,
   "id": "6382417a",
   "metadata": {},
   "outputs": [],
   "source": [
    "import tensorflow as tf"
   ]
  },
  {
   "cell_type": "code",
   "execution_count": 67,
   "id": "a7ed34c4",
   "metadata": {},
   "outputs": [
    {
     "ename": "ModuleNotFoundError",
     "evalue": "No module named 'keras.applications.resnet50'",
     "output_type": "error",
     "traceback": [
      "\u001b[0;31m---------------------------------------------------------------------------\u001b[0m",
      "\u001b[0;31mModuleNotFoundError\u001b[0m                       Traceback (most recent call last)",
      "Input \u001b[0;32mIn [67]\u001b[0m, in \u001b[0;36m<cell line: 1>\u001b[0;34m()\u001b[0m\n\u001b[0;32m----> 1\u001b[0m \u001b[38;5;28;01mfrom\u001b[39;00m \u001b[38;5;21;01mkeras\u001b[39;00m\u001b[38;5;21;01m.\u001b[39;00m\u001b[38;5;21;01mapplications\u001b[39;00m\u001b[38;5;21;01m.\u001b[39;00m\u001b[38;5;21;01mresnet50\u001b[39;00m \u001b[38;5;28;01mimport\u001b[39;00m ResNet50\n\u001b[1;32m      2\u001b[0m \u001b[38;5;28;01mfrom\u001b[39;00m \u001b[38;5;21;01mtf\u001b[39;00m\u001b[38;5;21;01m.\u001b[39;00m\u001b[38;5;21;01mkeras\u001b[39;00m\u001b[38;5;21;01m.\u001b[39;00m\u001b[38;5;21;01mapplications\u001b[39;00m\u001b[38;5;21;01m.\u001b[39;00m\u001b[38;5;21;01mresnet50\u001b[39;00m \u001b[38;5;28;01mimport\u001b[39;00m preprocess_input, decode_predictions\n\u001b[1;32m      3\u001b[0m \u001b[38;5;28;01mfrom\u001b[39;00m \u001b[38;5;21;01mkeras\u001b[39;00m\u001b[38;5;21;01m.\u001b[39;00m\u001b[38;5;21;01mlayers\u001b[39;00m \u001b[38;5;28;01mimport\u001b[39;00m GlobalMaxPooling2D\n",
      "\u001b[0;31mModuleNotFoundError\u001b[0m: No module named 'keras.applications.resnet50'"
     ]
    }
   ],
   "source": [
    "\n",
    "from keras.applications.resnet50 import ResNet50\n",
    "from tf.keras.applications.resnet50 import preprocess_input, decode_predictions\n",
    "from keras.layers import GlobalMaxPooling2D"
   ]
  },
  {
   "cell_type": "code",
   "execution_count": 59,
   "id": "5fa8001d",
   "metadata": {},
   "outputs": [
    {
     "ename": "NameError",
     "evalue": "name 'ResNet50' is not defined",
     "output_type": "error",
     "traceback": [
      "\u001b[0;31m---------------------------------------------------------------------------\u001b[0m",
      "\u001b[0;31mNameError\u001b[0m                                 Traceback (most recent call last)",
      "Input \u001b[0;32mIn [59]\u001b[0m, in \u001b[0;36m<cell line: 5>\u001b[0;34m()\u001b[0m\n\u001b[1;32m      2\u001b[0m img_width, img_height, _ \u001b[38;5;241m=\u001b[39m \u001b[38;5;241m224\u001b[39m, \u001b[38;5;241m224\u001b[39m, \u001b[38;5;241m3\u001b[39m \u001b[38;5;66;03m#load_image(df.iloc[0].image).shape\u001b[39;00m\n\u001b[1;32m      4\u001b[0m \u001b[38;5;66;03m# Pre-Trained Model\u001b[39;00m\n\u001b[0;32m----> 5\u001b[0m base_model \u001b[38;5;241m=\u001b[39m \u001b[43mResNet50\u001b[49m(weights\u001b[38;5;241m=\u001b[39m\u001b[38;5;124m'\u001b[39m\u001b[38;5;124mimagenet\u001b[39m\u001b[38;5;124m'\u001b[39m, \n\u001b[1;32m      6\u001b[0m                       include_top\u001b[38;5;241m=\u001b[39m\u001b[38;5;28;01mFalse\u001b[39;00m, \n\u001b[1;32m      7\u001b[0m                       input_shape \u001b[38;5;241m=\u001b[39m (img_width, img_height, \u001b[38;5;241m3\u001b[39m))\n\u001b[1;32m      8\u001b[0m base_model\u001b[38;5;241m.\u001b[39mtrainable \u001b[38;5;241m=\u001b[39m \u001b[38;5;28;01mFalse\u001b[39;00m\n\u001b[1;32m     10\u001b[0m \u001b[38;5;66;03m# Add Layer Embedding\u001b[39;00m\n",
      "\u001b[0;31mNameError\u001b[0m: name 'ResNet50' is not defined"
     ]
    }
   ],
   "source": [
    "# Input Shape\n",
    "img_width, img_height, _ = 224, 224, 3 #load_image(df.iloc[0].image).shape\n",
    "\n",
    "# Pre-Trained Model\n",
    "base_model = ResNet50(weights='imagenet', \n",
    "                      include_top=False, \n",
    "                      input_shape = (img_width, img_height, 3))\n",
    "base_model.trainable = False\n",
    "\n",
    "# Add Layer Embedding\n",
    "model = keras.Sequential([\n",
    "    base_model,\n",
    "    GlobalMaxPooling2D()\n",
    "])\n",
    "\n",
    "model.summary()"
   ]
  },
  {
   "cell_type": "code",
   "execution_count": null,
   "id": "7f7cc76a",
   "metadata": {},
   "outputs": [],
   "source": []
  }
 ],
 "metadata": {
  "kernelspec": {
   "display_name": "Python 3 (ipykernel)",
   "language": "python",
   "name": "python3"
  },
  "language_info": {
   "codemirror_mode": {
    "name": "ipython",
    "version": 3
   },
   "file_extension": ".py",
   "mimetype": "text/x-python",
   "name": "python",
   "nbconvert_exporter": "python",
   "pygments_lexer": "ipython3",
   "version": "3.9.10"
  },
  "vscode": {
   "interpreter": {
    "hash": "c6e4e9f98eb68ad3b7c296f83d20e6de614cb42e90992a65aa266555a3137d0d"
   }
  }
 },
 "nbformat": 4,
 "nbformat_minor": 5
}
